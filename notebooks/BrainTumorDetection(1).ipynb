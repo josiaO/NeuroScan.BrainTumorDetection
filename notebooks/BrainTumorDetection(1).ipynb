{
  "cells": [
    {
      "cell_type": "code",
      "execution_count": null,
      "id": "UBERsHHiSk2G",
      "metadata": {
        "colab": {
          "base_uri": "https://localhost:8080/"
        },
        "id": "UBERsHHiSk2G",
        "outputId": "2dbffa87-991c-462e-e80f-069b4b82725a"
      },
      "outputs": [
        {
          "name": "stdout",
          "output_type": "stream",
          "text": [
            "Mounted at /content/drive/\n"
          ]
        }
      ],
      "source": [
        "from google.colab import drive\n",
        "drive.mount('/content/drive/')"
      ]
    },
    {
      "cell_type": "markdown",
      "id": "ce8ba125",
      "metadata": {
        "id": "ce8ba125"
      },
      "source": [
        "#### Brain Tumor Detection Machine Learning"
      ]
    },
    {
      "cell_type": "markdown",
      "id": "61413726",
      "metadata": {
        "id": "61413726"
      },
      "source": [
        "### 1. Importing libraries\n",
        "\n",
        "First, we import all the Python packages and modules we’ll need. Common imports include NumPy and Pandas for data handling, Matplotlib (and/or Seaborn) for plotting, and machine learning libraries like scikit-learn. For example, import numpy as np loads NumPy (a library of fast, N-dimensional array operations), and import pandas as pd loads Pandas (a powerful data table/manipulation library). We also import plotting libraries (matplotlib.pyplot or seaborn) for visualizations. Next, we import specific functions from scikit-learn (e.g. train_test_split, compute_class_weight, ensemble models) to split data and build classifiers. We may also import CatBoostClassifier (a gradient-boosting library), AdaBoostClassifier (another boosting algorithm), and TensorFlow/Keras for building our CNN. Finally, we import SHAP for explainability. Together, these imports set up the tools needed for data loading, processing, modeling, and explanation in this pipeline.\n",
        "\n",
        "    NumPy (np): for numerical arrays and math operations\n",
        "\n",
        "    Pandas (pd): for loading and manipulating tabular data\n",
        "\n",
        "    Matplotlib/Seaborn: for creating plots (e.g. showing images or charts)\n",
        "\n",
        "    scikit-learn (sklearn): provides ML utilities (data splitting, metrics, ensemble methods).\n",
        "\n",
        "    CatBoost & AdaBoost: special ensemble classifiers for boosting\n",
        "    catboost.ai\n",
        "\n",
        "    TensorFlow/Keras: for building and training the CNN (deep learning model)\n",
        "\n",
        "    SHAP: for model explainability using Shapley values"
      ]
    },
    {
      "cell_type": "code",
      "execution_count": null,
      "id": "MQsoq00rfRW-",
      "metadata": {
        "colab": {
          "base_uri": "https://localhost:8080/"
        },
        "id": "MQsoq00rfRW-",
        "outputId": "71540dca-75af-4e87-fd13-102c0a93055a"
      },
      "outputs": [
        {
          "name": "stdout",
          "output_type": "stream",
          "text": [
            "Requirement already satisfied: tensorflow in /usr/local/lib/python3.11/dist-packages (2.18.0)\n",
            "Requirement already satisfied: keras in /usr/local/lib/python3.11/dist-packages (3.8.0)\n",
            "Requirement already satisfied: catboost in /usr/local/lib/python3.11/dist-packages (1.2.8)\n",
            "Requirement already satisfied: tensorboardX in /usr/local/lib/python3.11/dist-packages (2.6.2.2)\n",
            "Requirement already satisfied: absl-py>=1.0.0 in /usr/local/lib/python3.11/dist-packages (from tensorflow) (1.4.0)\n",
            "Requirement already satisfied: astunparse>=1.6.0 in /usr/local/lib/python3.11/dist-packages (from tensorflow) (1.6.3)\n",
            "Requirement already satisfied: flatbuffers>=24.3.25 in /usr/local/lib/python3.11/dist-packages (from tensorflow) (25.2.10)\n",
            "Requirement already satisfied: gast!=0.5.0,!=0.5.1,!=0.5.2,>=0.2.1 in /usr/local/lib/python3.11/dist-packages (from tensorflow) (0.6.0)\n",
            "Requirement already satisfied: google-pasta>=0.1.1 in /usr/local/lib/python3.11/dist-packages (from tensorflow) (0.2.0)\n",
            "Requirement already satisfied: libclang>=13.0.0 in /usr/local/lib/python3.11/dist-packages (from tensorflow) (18.1.1)\n",
            "Requirement already satisfied: opt-einsum>=2.3.2 in /usr/local/lib/python3.11/dist-packages (from tensorflow) (3.4.0)\n",
            "Requirement already satisfied: packaging in /usr/local/lib/python3.11/dist-packages (from tensorflow) (24.2)\n",
            "Requirement already satisfied: protobuf!=4.21.0,!=4.21.1,!=4.21.2,!=4.21.3,!=4.21.4,!=4.21.5,<6.0.0dev,>=3.20.3 in /usr/local/lib/python3.11/dist-packages (from tensorflow) (5.29.4)\n",
            "Requirement already satisfied: requests<3,>=2.21.0 in /usr/local/lib/python3.11/dist-packages (from tensorflow) (2.32.3)\n",
            "Requirement already satisfied: setuptools in /usr/local/lib/python3.11/dist-packages (from tensorflow) (75.2.0)\n",
            "Requirement already satisfied: six>=1.12.0 in /usr/local/lib/python3.11/dist-packages (from tensorflow) (1.17.0)\n",
            "Requirement already satisfied: termcolor>=1.1.0 in /usr/local/lib/python3.11/dist-packages (from tensorflow) (3.1.0)\n",
            "Requirement already satisfied: typing-extensions>=3.6.6 in /usr/local/lib/python3.11/dist-packages (from tensorflow) (4.13.2)\n",
            "Requirement already satisfied: wrapt>=1.11.0 in /usr/local/lib/python3.11/dist-packages (from tensorflow) (1.17.2)\n",
            "Requirement already satisfied: grpcio<2.0,>=1.24.3 in /usr/local/lib/python3.11/dist-packages (from tensorflow) (1.71.0)\n",
            "Requirement already satisfied: tensorboard<2.19,>=2.18 in /usr/local/lib/python3.11/dist-packages (from tensorflow) (2.18.0)\n",
            "Requirement already satisfied: numpy<2.1.0,>=1.26.0 in /usr/local/lib/python3.11/dist-packages (from tensorflow) (2.0.2)\n",
            "Requirement already satisfied: h5py>=3.11.0 in /usr/local/lib/python3.11/dist-packages (from tensorflow) (3.13.0)\n",
            "Requirement already satisfied: ml-dtypes<0.5.0,>=0.4.0 in /usr/local/lib/python3.11/dist-packages (from tensorflow) (0.4.1)\n",
            "Requirement already satisfied: tensorflow-io-gcs-filesystem>=0.23.1 in /usr/local/lib/python3.11/dist-packages (from tensorflow) (0.37.1)\n",
            "Requirement already satisfied: rich in /usr/local/lib/python3.11/dist-packages (from keras) (13.9.4)\n",
            "Requirement already satisfied: namex in /usr/local/lib/python3.11/dist-packages (from keras) (0.0.9)\n",
            "Requirement already satisfied: optree in /usr/local/lib/python3.11/dist-packages (from keras) (0.15.0)\n",
            "Requirement already satisfied: graphviz in /usr/local/lib/python3.11/dist-packages (from catboost) (0.20.3)\n",
            "Requirement already satisfied: matplotlib in /usr/local/lib/python3.11/dist-packages (from catboost) (3.10.0)\n",
            "Requirement already satisfied: pandas>=0.24 in /usr/local/lib/python3.11/dist-packages (from catboost) (2.2.2)\n",
            "Requirement already satisfied: scipy in /usr/local/lib/python3.11/dist-packages (from catboost) (1.15.3)\n",
            "Requirement already satisfied: plotly in /usr/local/lib/python3.11/dist-packages (from catboost) (5.24.1)\n",
            "Requirement already satisfied: wheel<1.0,>=0.23.0 in /usr/local/lib/python3.11/dist-packages (from astunparse>=1.6.0->tensorflow) (0.45.1)\n",
            "Requirement already satisfied: python-dateutil>=2.8.2 in /usr/local/lib/python3.11/dist-packages (from pandas>=0.24->catboost) (2.9.0.post0)\n",
            "Requirement already satisfied: pytz>=2020.1 in /usr/local/lib/python3.11/dist-packages (from pandas>=0.24->catboost) (2025.2)\n",
            "Requirement already satisfied: tzdata>=2022.7 in /usr/local/lib/python3.11/dist-packages (from pandas>=0.24->catboost) (2025.2)\n",
            "Requirement already satisfied: charset-normalizer<4,>=2 in /usr/local/lib/python3.11/dist-packages (from requests<3,>=2.21.0->tensorflow) (3.4.2)\n",
            "Requirement already satisfied: idna<4,>=2.5 in /usr/local/lib/python3.11/dist-packages (from requests<3,>=2.21.0->tensorflow) (3.10)\n",
            "Requirement already satisfied: urllib3<3,>=1.21.1 in /usr/local/lib/python3.11/dist-packages (from requests<3,>=2.21.0->tensorflow) (2.4.0)\n",
            "Requirement already satisfied: certifi>=2017.4.17 in /usr/local/lib/python3.11/dist-packages (from requests<3,>=2.21.0->tensorflow) (2025.4.26)\n",
            "Requirement already satisfied: markdown>=2.6.8 in /usr/local/lib/python3.11/dist-packages (from tensorboard<2.19,>=2.18->tensorflow) (3.8)\n",
            "Requirement already satisfied: tensorboard-data-server<0.8.0,>=0.7.0 in /usr/local/lib/python3.11/dist-packages (from tensorboard<2.19,>=2.18->tensorflow) (0.7.2)\n",
            "Requirement already satisfied: werkzeug>=1.0.1 in /usr/local/lib/python3.11/dist-packages (from tensorboard<2.19,>=2.18->tensorflow) (3.1.3)\n",
            "Requirement already satisfied: contourpy>=1.0.1 in /usr/local/lib/python3.11/dist-packages (from matplotlib->catboost) (1.3.2)\n",
            "Requirement already satisfied: cycler>=0.10 in /usr/local/lib/python3.11/dist-packages (from matplotlib->catboost) (0.12.1)\n",
            "Requirement already satisfied: fonttools>=4.22.0 in /usr/local/lib/python3.11/dist-packages (from matplotlib->catboost) (4.58.0)\n",
            "Requirement already satisfied: kiwisolver>=1.3.1 in /usr/local/lib/python3.11/dist-packages (from matplotlib->catboost) (1.4.8)\n",
            "Requirement already satisfied: pillow>=8 in /usr/local/lib/python3.11/dist-packages (from matplotlib->catboost) (11.2.1)\n",
            "Requirement already satisfied: pyparsing>=2.3.1 in /usr/local/lib/python3.11/dist-packages (from matplotlib->catboost) (3.2.3)\n",
            "Requirement already satisfied: tenacity>=6.2.0 in /usr/local/lib/python3.11/dist-packages (from plotly->catboost) (9.1.2)\n",
            "Requirement already satisfied: markdown-it-py>=2.2.0 in /usr/local/lib/python3.11/dist-packages (from rich->keras) (3.0.0)\n",
            "Requirement already satisfied: pygments<3.0.0,>=2.13.0 in /usr/local/lib/python3.11/dist-packages (from rich->keras) (2.19.1)\n",
            "Requirement already satisfied: mdurl~=0.1 in /usr/local/lib/python3.11/dist-packages (from markdown-it-py>=2.2.0->rich->keras) (0.1.2)\n",
            "Requirement already satisfied: MarkupSafe>=2.1.1 in /usr/local/lib/python3.11/dist-packages (from werkzeug>=1.0.1->tensorboard<2.19,>=2.18->tensorflow) (3.0.2)\n"
          ]
        }
      ],
      "source": [
        "pip install tensorflow keras catboost tensorboardX"
      ]
    },
    {
      "cell_type": "code",
      "execution_count": null,
      "id": "8a680ec6",
      "metadata": {
        "id": "8a680ec6"
      },
      "outputs": [],
      "source": [
        "# Core Libraries\n",
        "import os\n",
        "import numpy as np\n",
        "import pandas as pd\n",
        "import matplotlib.pyplot as plt\n",
        "import cv2\n",
        "import joblib\n",
        "\n",
        "# ML Libraries\n",
        "from sklearn.model_selection import train_test_split, cross_val_score\n",
        "from sklearn.metrics import accuracy_score, classification_report, confusion_matrix, precision_score, recall_score, f1_score\n",
        "from sklearn.utils import class_weight\n",
        "from sklearn.ensemble import AdaBoostClassifier, VotingClassifier\n",
        "from sklearn.tree import DecisionTreeClassifier\n",
        "from catboost import CatBoostClassifier\n",
        "from sklearn.model_selection import RandomizedSearchCV\n",
        "\n",
        "# Deep Learning\n",
        "import tensorflow as tf\n",
        "from keras.models import Sequential\n",
        "from keras.layers import Conv2D, MaxPooling2D, Flatten, Dense\n",
        "from keras.optimizers import Adam\n",
        "\n",
        "# Explainability\n",
        "import shap\n",
        "from tensorboardX import SummaryWriter\n",
        "\n",
        "# Visualization\n",
        "import seaborn as sns\n"
      ]
    },
    {
      "cell_type": "markdown",
      "id": "38dbf0bb",
      "metadata": {
        "id": "38dbf0bb"
      },
      "source": [
        "### 2. Loading and labeling the dataset\n",
        "\n",
        "In this step, we load our MRI images and assign labels (tumor vs. no tumor) for each image. Typically, the code will read files from folders (e.g. a “tumor” folder and a “no_tumor” folder) or a CSV file with image paths and labels. Each image file is loaded (using OpenCV, PIL, or Keras utilities) and converted into a numerical array. We also create a label (e.g. 1 for tumor, 0 for no tumor) for each image, usually based on the folder name or a metadata file. This might involve using os.listdir or glob to gather file paths, then iterating through them. The loaded data is often stored in two arrays or lists: one for image data (features) and one for labels. Before modeling, images may be resized to a common shape (e.g. 224×224 pixels) and normalized (scaling pixel values). Labeling ensures our machine learning models know which images contain a tumor and which do not, which is essential for supervised learning.\n",
        "\n",
        "    Read image files from the dataset directory (e.g. using cv2.imread or tf.keras.preprocessing.image.load_img).\n",
        "\n",
        "    Assign labels based on folder names or annotations (e.g. “tumor” → 1, “no_tumor” → 0).\n",
        "\n",
        "    Optionally, resize images and normalize pixel values.\n",
        "\n",
        "    Store image data (X) and labels (y) for later use in training/testing."
      ]
    },
    {
      "cell_type": "code",
      "execution_count": null,
      "id": "e8c0523f",
      "metadata": {
        "colab": {
          "base_uri": "https://localhost:8080/"
        },
        "id": "e8c0523f",
        "outputId": "8dbbb6af-9666-49c8-95f2-a038b13aa366"
      },
      "outputs": [
        {
          "name": "stdout",
          "output_type": "stream",
          "text": [
            "Loading images from: /content/drive/MyDrive/tl_dataset/Training\n",
            "Finished loading. Total images: 5720\n",
            "Number of images per class:\n",
            "  notumor: 1603\n",
            "  meningioma: 1339\n",
            "  glioma: 1321\n",
            "  pituitary: 1457\n",
            "Label distribution: {np.int64(0): np.int64(1603), np.int64(1): np.int64(4117)}\n"
          ]
        }
      ],
      "source": [
        "\n",
        "\n",
        "    # Configuration\n",
        "    DATA_DIR = '/content/drive/MyDrive/tl_dataset' # Updated path for Google Drive\n",
        "    TRAINING_DIR = os.path.join(DATA_DIR, 'Training')\n",
        "    TESTING_DIR = os.path.join(DATA_DIR, 'Testing') # Define the test directory for visualization\n",
        "    IMAGE_SIZE = (128, 128)\n",
        "    CLASSES = {\n",
        "        'notumor': 0,\n",
        "        'meningioma': 1,\n",
        "        'glioma': 1,\n",
        "        'pituitary': 1\n",
        "    }\n",
        "    TARGET_SIZE_DOWNSAMPLE = 5000 # Target number of images after downsampling\n",
        "\n",
        "    # Function to load and preprocess images\n",
        "    def load_images_from_dir(directory, classes, image_size):\n",
        "        X, Y = [], []\n",
        "        total_images = 0\n",
        "        class_counts = {}\n",
        "\n",
        "        print(f\"Loading images from: {directory}\")\n",
        "\n",
        "        for cls in classes:\n",
        "            path = os.path.join(directory, cls)\n",
        "            if not os.path.exists(path):\n",
        "                print(f\"Warning: Directory not found - {path}\")\n",
        "                continue\n",
        "\n",
        "            num_images = 0\n",
        "            for fname in os.listdir(path):\n",
        "                fpath = os.path.join(path, fname)\n",
        "                # Check if it's a file and not a hidden file\n",
        "                if os.path.isfile(fpath) and not fname.startswith('.'):\n",
        "                    img = cv2.imread(fpath, cv2.IMREAD_GRAYSCALE)\n",
        "                    if img is not None:\n",
        "                        # Resize and normalize\n",
        "                        img = cv2.resize(img, image_size) / 255.0\n",
        "                        X.append(img)\n",
        "                        Y.append(classes[cls])\n",
        "                        num_images += 1\n",
        "            class_counts[cls] = num_images\n",
        "            total_images += num_images\n",
        "\n",
        "        X = np.array(X)\n",
        "        Y = np.array(Y)\n",
        "\n",
        "        print(f\"Finished loading. Total images: {total_images}\")\n",
        "        print(\"Number of images per class:\")\n",
        "        for cls, count in class_counts.items():\n",
        "            print(f\"  {cls}: {count}\")\n",
        "        if len(np.unique(Y)) > 0:\n",
        "            print(\"Label distribution:\", dict(zip(*np.unique(Y, return_counts=True))))\n",
        "\n",
        "        return X, Y\n",
        "\n",
        "    # Load training data\n",
        "    X_train_full, y_train_full = load_images_from_dir(TRAINING_DIR, CLASSES, IMAGE_SIZE)"
      ]
    },
    {
      "cell_type": "markdown",
      "id": "a7c2c4d5",
      "metadata": {
        "id": "a7c2c4d5"
      },
      "source": [
        "### Data Augmentation\n",
        "\n",
        "Data augmentation is a technique used to artificially expand the size and diversity of the dataset by applying transformations to the existing images. This helps improve the model's generalization and robustness by exposing it to a variety of variations.\n",
        "\n",
        "In this notebook, we applied the following augmentation techniques using the **Albumentations** library:\n",
        "- **Horizontal Flip**: Randomly flips the image horizontally.\n",
        "- **Random Brightness/Contrast**: Adjusts the brightness and contrast of the image.\n",
        "- **Affine Transformations**: Includes scaling, translation, and rotation.\n",
        "- **Elastic Transform**: Warps the image to simulate realistic deformations.\n",
        "- **Gaussian Blur**: Applies a slight blur to the image.\n",
        "\n",
        "The augmented dataset is combined with the original dataset, effectively doubling the size of the training data. Below, we visualize some examples of the original and augmented images."
      ]
    },
    {
      "cell_type": "code",
      "execution_count": null,
      "id": "25a21375",
      "metadata": {
        "colab": {
          "base_uri": "https://localhost:8080/"
        },
        "id": "25a21375",
        "outputId": "599a8126-40a4-4a85-c65e-95f6c785abbc"
      },
      "outputs": [
        {
          "name": "stderr",
          "output_type": "stream",
          "text": [
            "/usr/local/lib/python3.11/dist-packages/albumentations/__init__.py:28: UserWarning: A new version of Albumentations is available: '2.0.7' (you have '2.0.6'). Upgrade using: pip install -U albumentations. To disable automatic update checks, set the environment variable NO_ALBUMENTATIONS_UPDATE to 1.\n",
            "  check_for_updates()\n",
            "<ipython-input-7-d2fb80d1f694>:13: UserWarning: Argument(s) 'alpha_affine' are not valid for transform ElasticTransform\n",
            "  A.ElasticTransform(p=0.2, alpha=1, sigma=50, alpha_affine=50),\n"
          ]
        },
        {
          "name": "stdout",
          "output_type": "stream",
          "text": [
            "Combined Original and Augmented Dataset Size:\n",
            "Images(X): (11440, 128, 128)\n",
            "Labels(Y): (11440,)\n"
          ]
        }
      ],
      "source": [
        "import albumentations as A\n",
        "\n",
        "# Defining augmentation pipeline\n",
        "augment = A.Compose([\n",
        "    A.HorizontalFlip(p=0.5),\n",
        "    A.RandomBrightnessContrast(p=0.5),\n",
        "    A.Affine(\n",
        "        scale=(0.9, 1.1),\n",
        "        translate_percent=(-0.1, 0.1),\n",
        "        rotate=(-15, 15),\n",
        "        p=0.5\n",
        "    ),\n",
        "    A.ElasticTransform(p=0.2, alpha=1, sigma=50, alpha_affine=50),\n",
        "    A.GaussianBlur(p=0.2, blur_limit=(3, 7))\n",
        "])\n",
        "\n",
        "# Applying Augmentation to each training image\n",
        "aug_X, aug_Y = [], []\n",
        "\n",
        "# Convert X_train_full to uint8 for Albumentations, then back to float after augment\n",
        "X_train_full_uint8 = (X_train_full * 255).astype(np.uint8)\n",
        "\n",
        "for img, label in zip(X_train_full_uint8, y_train_full):\n",
        "    # Augment requires 3 channels for some transformations, convert grayscale to 3 channels\n",
        "    img_rgb = cv2.cvtColor(img, cv2.COLOR_GRAY2RGB)\n",
        "    augmented = augment(image=img_rgb)['image']\n",
        "    # Convert back to grayscale after augmentation if needed for models expecting 1 channel\n",
        "    augmented_gray = cv2.cvtColor(augmented, cv2.COLOR_RGB2GRAY)\n",
        "    augmented_gray = augmented_gray / 255.0 # Normalize back\n",
        "\n",
        "    # Append the augmented image and label INSIDE the loop\n",
        "    aug_X.append(augmented_gray)\n",
        "    aug_Y.append(label)\n",
        "\n",
        "# Converting to numpy array\n",
        "aug_X = np.array(aug_X)\n",
        "aug_Y = np.array(aug_Y)\n",
        "\n",
        "# Combining original and augmented data\n",
        "X = np.concatenate((X_train_full, aug_X), axis=0)\n",
        "Y = np.concatenate((y_train_full, aug_Y), axis=0)\n",
        "\n",
        "print(\"Combined Original and Augmented Dataset Size:\")\n",
        "print(\"Images(X):\", X.shape)\n",
        "print(\"Labels(Y):\", Y.shape)"
      ]
    },
    {
      "cell_type": "markdown",
      "id": "7ea74d5d",
      "metadata": {
        "id": "7ea74d5d"
      },
      "source": [
        "### Visualizing Agmentation"
      ]
    },
    {
      "cell_type": "markdown",
      "id": "11d5fd2a",
      "metadata": {
        "id": "11d5fd2a"
      },
      "source": [
        "## Balanced downsampling"
      ]
    },
    {
      "cell_type": "code",
      "execution_count": null,
      "id": "87d04e9f",
      "metadata": {
        "colab": {
          "base_uri": "https://localhost:8080/"
        },
        "id": "87d04e9f",
        "outputId": "7829618a-15a1-455e-cf80-de390f6fee33"
      },
      "outputs": [
        {
          "name": "stdout",
          "output_type": "stream",
          "text": [
            "Original combined dataset size: 11440\n",
            "Target downsampled size: 5000\n",
            "Original combined dataset size: 5000\n",
            "Target downsampled size: 5000\n",
            "Target downsample size is larger than or equal to the dataset size. Skipping downsampling.\n"
          ]
        }
      ],
      "source": [
        "from sklearn.utils import resample\n",
        "    # Set target total size\n",
        "print(f\"Original combined dataset size: {len(X)}\")\n",
        "print(f\"Target downsampled size: {TARGET_SIZE_DOWNSAMPLE}\")\n",
        "\n",
        "if TARGET_SIZE_DOWNSAMPLE < len(X):\n",
        "  # Combine X and Y into one list for sampling\n",
        "  combined = list(zip(list(X), list(Y))) # Convert numpy arrays to lists for zipping\n",
        "\n",
        "        # Downsample (randomly select TARGET_SIZE_DOWNSAMPLE images)\n",
        "  sampled = resample(combined,\n",
        "                    n_samples=TARGET_SIZE_DOWNSAMPLE,\n",
        "                    random_state=42,\n",
        "                    stratify=list(Y) # Stratify based on the original Y list\n",
        "                    )\n",
        "\n",
        "        # Unzip\n",
        "X_sampled, Y_sampled = zip(*sampled)\n",
        "\n",
        "        # Convert back to numpy arrays\n",
        "X = np.array(X_sampled)\n",
        "Y = np.array(Y_sampled)\n",
        "\n",
        "# Set target total size\n",
        "print(f\"Original combined dataset size: {len(X)}\")\n",
        "print(f\"Target downsampled size: {TARGET_SIZE_DOWNSAMPLE}\")\n",
        "\n",
        "if TARGET_SIZE_DOWNSAMPLE < len(X):\n",
        "  # Combine X and Y into one list for sampling\n",
        "  combined = list(zip(list(X), list(Y))) # Convert numpy arrays to lists for zipping\n",
        "\n",
        "  # Downsample (randomly select TARGET_SIZE_DOWNSAMPLE images)\n",
        "  sampled = resample(combined,\n",
        "                    n_samples=TARGET_SIZE_DOWNSAMPLE,\n",
        "                    random_state=42,\n",
        "                    stratify=list(Y) # Stratify based on the original Y list\n",
        "                    )\n",
        "\n",
        "  # Unzip\n",
        "  X_sampled, Y_sampled = zip(*sampled)\n",
        "\n",
        "  # Convert back to numpy arrays\n",
        "  X = np.array(X_sampled)\n",
        "  Y = np.array(Y_sampled)\n",
        "\n",
        "  print(\"Reduced dataset shape:\", X.shape, Y.shape)\n",
        "  print(\"Reduced dataset label distribution:\", dict(zip(*np.unique(Y, return_counts=True))))\n",
        "\n",
        "else:\n",
        "  print(\"Target downsample size is larger than or equal to the dataset size. Skipping downsampling.\")\n",
        "  # Ensure X and Y are numpy arrays in case downsampling was skipped\n",
        "  X = np.array(X)\n",
        "  Y = np.array(Y)\n",
        "        # Ensure X and Y are numpy arrays in case downsampling was skipped\n",
        "  X = np.array(X)\n",
        "  Y = np.array(Y)"
      ]
    },
    {
      "cell_type": "markdown",
      "id": "a73f8f1c",
      "metadata": {
        "id": "a73f8f1c"
      },
      "source": [
        "### 3. Visualizing a sample image\n",
        "\n",
        "Before training, it’s helpful to display an example image to check our data. The code typically selects one image (e.g. X[0]) and uses Matplotlib to show it: for example, plt.imshow(image, cmap='gray'). This confirms that images are loaded correctly (proper orientation and color channels) and that labels match what we see. We often add a title like plt.title(\"Label: Tumor\") to verify that the image’s true label is correct. This step is mostly sanity-checking data quality and understanding. Visualizing sample images also helps beginners see what the models are looking at (e.g. brain scans with or without tumors).\n",
        "\n",
        "    Use matplotlib.pyplot.imshow to display one or more sample images.\n",
        "\n",
        "    Optionally set cmap='gray' if the images are grayscale.\n",
        "\n",
        "    Annotate the plot with its true label (e.g. “Tumor” or “No Tumor”) to double-check correctness.\n",
        "\n",
        "    This helps ensure data is loaded and labeled as expected."
      ]
    },
    {
      "cell_type": "code",
      "execution_count": null,
      "id": "70edfb90",
      "metadata": {
        "colab": {
          "base_uri": "https://localhost:8080/",
          "height": 428
        },
        "id": "70edfb90",
        "outputId": "3f1ebbd7-382e-426a-fbaa-d74917effecb"
      },
      "outputs": [
        {
          "data": {
            "image/png": "[encoded data removed]",
            "text/plain": [
              "<Figure size 640x480 with 1 Axes>"
            ]
          },
          "metadata": {},
          "output_type": "display_data"
        }
      ],
      "source": []
    },
    {
      "cell_type": "markdown",
      "id": "a8fbc3c4",
      "metadata": {
        "id": "a8fbc3c4"
      },
      "source": [
        "### 4. Train/test split\n",
        "\n",
        "Next, we divide the dataset into training and testing subsets. This is done with train_test_split from scikit-learn, which randomly shuffles and splits the data\n",
        "\n",
        "Here, 20% of images are held out for testing (test_size=0.2), and the rest (80%) are used for training. Using a random_state ensures reproducibility. Splitting is critical because it lets us train models on one set of data and evaluate their performance on unseen data, giving a fair assessment of real-world accuracy. In practice, the code will wrap this into one line, leveraging the fact that train_test_split can handle inputs like arrays or DataFrames\n",
        ".\n",
        "\n",
        "    Call train_test_split(X, y, test_size=..., random_state=...) to split the data.\n",
        "\n",
        "    By default, it shuffles the data and returns X_train, X_test, y_train, y_test.\n",
        "\n",
        "    The test set (X_test, y_test) is kept unseen during training and used later to evaluate final accuracy.\n",
        "\n",
        "    train_test_split provides a quick way to partition data (80/20 split is common)."
      ]
    },
    {
      "cell_type": "code",
      "execution_count": null,
      "id": "c787e0ef",
      "metadata": {
        "colab": {
          "base_uri": "https://localhost:8080/"
        },
        "id": "c787e0ef",
        "outputId": "f8a1967c-4779-4820-b550-75750163598a"
      },
      "outputs": [
        {
          "name": "stdout",
          "output_type": "stream",
          "text": [
            "Train set size: (4000, 128, 128) (4000,)\n",
            "Test set size: (1000, 128, 128) (1000,)\n",
            "\n",
            "Train set distribution: {np.int64(0): np.int64(1121), np.int64(1): np.int64(2879)}\n",
            "Test set distribution: {np.int64(0): np.int64(280), np.int64(1): np.int64(720)}\n",
            "\n",
            "Shapes for models:\n",
            "CatBoost/AdaBoost (Flat): (4000, 16384) (1000, 16384)\n",
            "CNN (1 channel): (4000, 128, 128, 1) (1000, 128, 128, 1)\n",
            "Transfer Learning (3 channels): (4000, 128, 128, 3) (1000, 128, 128, 3)\n"
          ]
        }
      ],
      "source": []
    },
    {
      "cell_type": "markdown",
      "id": "6ee94a50",
      "metadata": {
        "id": "6ee94a50"
      },
      "source": [
        "### 5. Handling class imbalance\n",
        "\n",
        "Medical datasets often have imbalanced classes (e.g. many more “no tumor” cases than “tumor”). This can bias the model toward the majority class. To address this, the code computes class weights so that the model pays more attention to the minority class. Scikit-learn’s compute_class_weight function does this:\n",
        "\n",
        "from sklearn.utils.class_weight import compute_class_weight\n",
        "class_weights = compute_class_weight('balanced', classes=np.unique(y_train), y=y_train)\n",
        "\n",
        "This returns weights for each class inversely proportional to class frequency.\n",
        "The weights can then be passed to model training (e.g. model.fit(X_train, y_train, class_weight={0: w0, 1: w1})). Using balanced class weights ensures that errors on the underrepresented class (usually tumors) count more, helping the model learn from scarce examples. Without this step, a model might achieve high accuracy simply by always predicting the majority class, which is misleading.\n",
        "\n",
        "    Check class distribution (e.g. np.bincount(y_train)) to confirm imbalance.\n",
        "\n",
        "    Use compute_class_weight('balanced', classes=..., y=...) to get weights.\n",
        "\n",
        "    Pass these weights into the classifier’s fit method (e.g. class_weight={0: w0, 1: w1}).\n",
        "\n",
        "    This compensates for imbalance by giving more importance to the minority class during training."
      ]
    },
    {
      "cell_type": "code",
      "execution_count": null,
      "id": "dbfd71e5",
      "metadata": {
        "colab": {
          "base_uri": "https://localhost:8080/"
        },
        "id": "dbfd71e5",
        "outputId": "db759f60-9b7d-4748-d2b1-347a97571d96"
      },
      "outputs": [
        {
          "name": "stdout",
          "output_type": "stream",
          "text": [
            "Class Weights: {np.int64(0): np.float64(1.784121320249777), np.int64(1): np.float64(0.6946856547412296)}\n"
          ]
        }
      ],
      "source": []
    },
    {
      "cell_type": "markdown",
      "id": "ViTiZQIlVzt5",
      "metadata": {
        "id": "ViTiZQIlVzt5"
      },
      "source": [
        "### 10. Model Training Functions"
      ]
    },
    {
      "cell_type": "code",
      "execution_count": null,
      "id": "6cMRzrkjVs6i",
      "metadata": {
        "id": "6cMRzrkjVs6i"
      },
      "outputs": [],
      "source": []
    },
    {
      "cell_type": "markdown",
      "id": "XrqUvWLbWG99",
      "metadata": {
        "id": "XrqUvWLbWG99"
      },
      "source": [
        "### 11. Train All Models"
      ]
    },
    {
      "cell_type": "code",
      "execution_count": null,
      "id": "1pG2B4lAWC2T",
      "metadata": {
        "colab": {
          "base_uri": "https://localhost:8080/"
        },
        "id": "1pG2B4lAWC2T",
        "outputId": "efe2f931-988d-4dc6-e765-2f4d04c8bc65"
      },
      "outputs": [
        {
          "name": "stdout",
          "output_type": "stream",
          "text": [
            "\n",
            "Training CatBoost...\n",
            "0:\tlearn: 0.6506843\ttest: 0.6512328\tbest: 0.6512328 (0)\ttotal: 247ms\tremaining: 49.2s\n",
            "50:\tlearn: 0.2078426\ttest: 0.2507566\tbest: 0.2507566 (50)\ttotal: 8.54s\tremaining: 24.9s\n",
            "100:\tlearn: 0.1399954\ttest: 0.2100322\tbest: 0.2100322 (100)\ttotal: 17.9s\tremaining: 17.6s\n",
            "150:\tlearn: 0.1028719\ttest: 0.1896686\tbest: 0.1896686 (150)\ttotal: 27.3s\tremaining: 8.86s\n",
            "199:\tlearn: 0.0793185\ttest: 0.1756028\tbest: 0.1756028 (199)\ttotal: 34.9s\tremaining: 0us\n",
            "bestTest = 0.1756027658\n",
            "bestIteration = 199\n",
            "CatBoost training finished.\n",
            "\n",
            "Training AdaBoost...\n"
          ]
        },
        {
          "name": "stderr",
          "output_type": "stream",
          "text": [
            "/usr/local/lib/python3.11/dist-packages/sklearn/ensemble/_weight_boosting.py:519: FutureWarning: The parameter 'algorithm' is deprecated in 1.6 and has no effect. It will be removed in version 1.8.\n",
            "  warnings.warn(\n"
          ]
        },
        {
          "name": "stdout",
          "output_type": "stream",
          "text": [
            "AdaBoost training finished.\n",
            "\n",
            "Training CNN...\n",
            "Epoch 1/50\n",
            "\u001b[1m100/100\u001b[0m \u001b[32m━━━━━━━━━━━━━━━━━━━━\u001b[0m\u001b[37m\u001b[0m \u001b[1m8s\u001b[0m 32ms/step - accuracy: 0.7205 - loss: 0.5111 - val_accuracy: 0.9162 - val_loss: 0.2270\n",
            "Epoch 2/50\n",
            "\u001b[1m100/100\u001b[0m \u001b[32m━━━━━━━━━━━━━━━━━━━━\u001b[0m\u001b[37m\u001b[0m \u001b[1m2s\u001b[0m 20ms/step - accuracy: 0.9342 - loss: 0.1929 - val_accuracy: 0.9438 - val_loss: 0.1945\n",
            "Epoch 3/50\n",
            "\u001b[1m100/100\u001b[0m \u001b[32m━━━━━━━━━━━━━━━━━━━━\u001b[0m\u001b[37m\u001b[0m \u001b[1m2s\u001b[0m 17ms/step - accuracy: 0.9520 - loss: 0.1419 - val_accuracy: 0.9475 - val_loss: 0.1577\n",
            "Epoch 4/50\n",
            "\u001b[1m100/100\u001b[0m \u001b[32m━━━━━━━━━━━━━━━━━━━━\u001b[0m\u001b[37m\u001b[0m \u001b[1m3s\u001b[0m 17ms/step - accuracy: 0.9636 - loss: 0.1223 - val_accuracy: 0.9563 - val_loss: 0.1237\n",
            "Epoch 5/50\n",
            "\u001b[1m100/100\u001b[0m \u001b[32m━━━━━━━━━━━━━━━━━━━━\u001b[0m\u001b[37m\u001b[0m \u001b[1m3s\u001b[0m 18ms/step - accuracy: 0.9652 - loss: 0.0946 - val_accuracy: 0.9475 - val_loss: 0.1762\n",
            "Epoch 6/50\n",
            "\u001b[1m100/100\u001b[0m \u001b[32m━━━━━━━━━━━━━━━━━━━━\u001b[0m\u001b[37m\u001b[0m \u001b[1m2s\u001b[0m 18ms/step - accuracy: 0.9791 - loss: 0.0690 - val_accuracy: 0.9600 - val_loss: 0.1254\n",
            "Epoch 7/50\n",
            "\u001b[1m100/100\u001b[0m \u001b[32m━━━━━━━━━━━━━━━━━━━━\u001b[0m\u001b[37m\u001b[0m \u001b[1m2s\u001b[0m 18ms/step - accuracy: 0.9875 - loss: 0.0476 - val_accuracy: 0.9712 - val_loss: 0.1302\n",
            "Epoch 8/50\n",
            "\u001b[1m100/100\u001b[0m \u001b[32m━━━━━━━━━━━━━━━━━━━━\u001b[0m\u001b[37m\u001b[0m \u001b[1m3s\u001b[0m 18ms/step - accuracy: 0.9903 - loss: 0.0355 - val_accuracy: 0.9737 - val_loss: 0.1268\n",
            "Epoch 9/50\n",
            "\u001b[1m100/100\u001b[0m \u001b[32m━━━━━━━━━━━━━━━━━━━━\u001b[0m\u001b[37m\u001b[0m \u001b[1m2s\u001b[0m 17ms/step - accuracy: 0.9898 - loss: 0.0315 - val_accuracy: 0.9500 - val_loss: 0.1660\n",
            "Epoch 10/50\n",
            "\u001b[1m100/100\u001b[0m \u001b[32m━━━━━━━━━━━━━━━━━━━━\u001b[0m\u001b[37m\u001b[0m \u001b[1m2s\u001b[0m 17ms/step - accuracy: 0.9849 - loss: 0.0348 - val_accuracy: 0.9688 - val_loss: 0.1537\n",
            "Epoch 11/50\n",
            "\u001b[1m100/100\u001b[0m \u001b[32m━━━━━━━━━━━━━━━━━━━━\u001b[0m\u001b[37m\u001b[0m \u001b[1m2s\u001b[0m 17ms/step - accuracy: 0.9954 - loss: 0.0156 - val_accuracy: 0.9688 - val_loss: 0.1421\n",
            "Epoch 12/50\n",
            "\u001b[1m100/100\u001b[0m \u001b[32m━━━━━━━━━━━━━━━━━━━━\u001b[0m\u001b[37m\u001b[0m \u001b[1m3s\u001b[0m 17ms/step - accuracy: 0.9923 - loss: 0.0225 - val_accuracy: 0.9725 - val_loss: 0.1312\n",
            "Epoch 13/50\n",
            "\u001b[1m100/100\u001b[0m \u001b[32m━━━━━━━━━━━━━━━━━━━━\u001b[0m\u001b[37m\u001b[0m \u001b[1m3s\u001b[0m 19ms/step - accuracy: 0.9905 - loss: 0.0244 - val_accuracy: 0.9712 - val_loss: 0.1634\n",
            "Epoch 14/50\n",
            "\u001b[1m100/100\u001b[0m \u001b[32m━━━━━━━━━━━━━━━━━━━━\u001b[0m\u001b[37m\u001b[0m \u001b[1m2s\u001b[0m 18ms/step - accuracy: 0.9996 - loss: 0.0031 - val_accuracy: 0.9712 - val_loss: 0.1746\n",
            "CNN training finished.\n",
            "\n",
            "Training Transfer Learning (VGG16)...\n",
            "Downloading data from https://storage.googleapis.com/tensorflow/keras-applications/vgg16/vgg16_weights_tf_dim_ordering_tf_kernels_notop.h5\n",
            "\u001b[1m58889256/58889256\u001b[0m \u001b[32m━━━━━━━━━━━━━━━━━━━━\u001b[0m\u001b[37m\u001b[0m \u001b[1m3s\u001b[0m 0us/step\n",
            "Epoch 1/30\n",
            "\u001b[1m100/100\u001b[0m \u001b[32m━━━━━━━━━━━━━━━━━━━━\u001b[0m\u001b[37m\u001b[0m \u001b[1m15s\u001b[0m 85ms/step - accuracy: 0.8843 - loss: 0.3310 - val_accuracy: 0.9700 - val_loss: 0.0857\n",
            "Epoch 2/30\n",
            "\u001b[1m100/100\u001b[0m \u001b[32m━━━━━━━━━━━━━━━━━━━━\u001b[0m\u001b[37m\u001b[0m \u001b[1m7s\u001b[0m 74ms/step - accuracy: 0.9717 - loss: 0.0804 - val_accuracy: 0.9800 - val_loss: 0.0642\n",
            "Epoch 3/30\n",
            "\u001b[1m100/100\u001b[0m \u001b[32m━━━━━━━━━━━━━━━━━━━━\u001b[0m\u001b[37m\u001b[0m \u001b[1m7s\u001b[0m 75ms/step - accuracy: 0.9868 - loss: 0.0458 - val_accuracy: 0.9800 - val_loss: 0.0627\n",
            "Epoch 4/30\n",
            "\u001b[1m100/100\u001b[0m \u001b[32m━━━━━━━━━━━━━━━━━━━━\u001b[0m\u001b[37m\u001b[0m \u001b[1m9s\u001b[0m 86ms/step - accuracy: 0.9941 - loss: 0.0309 - val_accuracy: 0.9900 - val_loss: 0.0497\n",
            "Epoch 5/30\n",
            "\u001b[1m100/100\u001b[0m \u001b[32m━━━━━━━━━━━━━━━━━━━━\u001b[0m\u001b[37m\u001b[0m \u001b[1m9s\u001b[0m 75ms/step - accuracy: 0.9964 - loss: 0.0179 - val_accuracy: 0.9750 - val_loss: 0.0622\n",
            "Epoch 6/30\n",
            "\u001b[1m100/100\u001b[0m \u001b[32m━━━━━━━━━━━━━━━━━━━━\u001b[0m\u001b[37m\u001b[0m \u001b[1m9s\u001b[0m 86ms/step - accuracy: 0.9923 - loss: 0.0267 - val_accuracy: 0.9850 - val_loss: 0.0489\n",
            "Epoch 7/30\n",
            "\u001b[1m100/100\u001b[0m \u001b[32m━━━━━━━━━━━━━━━━━━━━\u001b[0m\u001b[37m\u001b[0m \u001b[1m9s\u001b[0m 87ms/step - accuracy: 0.9975 - loss: 0.0125 - val_accuracy: 0.9912 - val_loss: 0.0474\n",
            "Epoch 8/30\n",
            "\u001b[1m100/100\u001b[0m \u001b[32m━━━━━━━━━━━━━━━━━━━━\u001b[0m\u001b[37m\u001b[0m \u001b[1m9s\u001b[0m 76ms/step - accuracy: 0.9994 - loss: 0.0061 - val_accuracy: 0.9825 - val_loss: 0.0572\n",
            "Epoch 9/30\n",
            "\u001b[1m100/100\u001b[0m \u001b[32m━━━━━━━━━━━━━━━━━━━━\u001b[0m\u001b[37m\u001b[0m \u001b[1m9s\u001b[0m 87ms/step - accuracy: 0.9993 - loss: 0.0057 - val_accuracy: 0.9875 - val_loss: 0.0461\n",
            "Epoch 10/30\n",
            "\u001b[1m100/100\u001b[0m \u001b[32m━━━━━━━━━━━━━━━━━━━━\u001b[0m\u001b[37m\u001b[0m \u001b[1m9s\u001b[0m 76ms/step - accuracy: 0.9999 - loss: 0.0027 - val_accuracy: 0.9875 - val_loss: 0.0452\n",
            "Epoch 11/30\n",
            "\u001b[1m100/100\u001b[0m \u001b[32m━━━━━━━━━━━━━━━━━━━━\u001b[0m\u001b[37m\u001b[0m \u001b[1m8s\u001b[0m 76ms/step - accuracy: 1.0000 - loss: 0.0026 - val_accuracy: 0.9825 - val_loss: 0.0647\n",
            "Epoch 12/30\n",
            "\u001b[1m100/100\u001b[0m \u001b[32m━━━━━━━━━━━━━━━━━━━━\u001b[0m\u001b[37m\u001b[0m \u001b[1m10s\u001b[0m 77ms/step - accuracy: 1.0000 - loss: 0.0032 - val_accuracy: 0.9925 - val_loss: 0.0421\n",
            "Epoch 13/30\n",
            "\u001b[1m100/100\u001b[0m \u001b[32m━━━━━━━━━━━━━━━━━━━━\u001b[0m\u001b[37m\u001b[0m \u001b[1m8s\u001b[0m 76ms/step - accuracy: 1.0000 - loss: 0.0016 - val_accuracy: 0.9887 - val_loss: 0.0469\n",
            "Epoch 14/30\n",
            "\u001b[1m100/100\u001b[0m \u001b[32m━━━━━━━━━━━━━━━━━━━━\u001b[0m\u001b[37m\u001b[0m \u001b[1m11s\u001b[0m 88ms/step - accuracy: 1.0000 - loss: 9.7880e-04 - val_accuracy: 0.9925 - val_loss: 0.0420\n",
            "Epoch 15/30\n",
            "\u001b[1m100/100\u001b[0m \u001b[32m━━━━━━━━━━━━━━━━━━━━\u001b[0m\u001b[37m\u001b[0m \u001b[1m9s\u001b[0m 87ms/step - accuracy: 1.0000 - loss: 0.0015 - val_accuracy: 0.9925 - val_loss: 0.0471\n",
            "Epoch 16/30\n",
            "\u001b[1m100/100\u001b[0m \u001b[32m━━━━━━━━━━━━━━━━━━━━\u001b[0m\u001b[37m\u001b[0m \u001b[1m10s\u001b[0m 87ms/step - accuracy: 1.0000 - loss: 7.9506e-04 - val_accuracy: 0.9912 - val_loss: 0.0466\n",
            "Epoch 17/30\n",
            "\u001b[1m100/100\u001b[0m \u001b[32m━━━━━━━━━━━━━━━━━━━━\u001b[0m\u001b[37m\u001b[0m \u001b[1m10s\u001b[0m 87ms/step - accuracy: 1.0000 - loss: 5.4025e-04 - val_accuracy: 0.9812 - val_loss: 0.0669\n",
            "Epoch 18/30\n",
            "\u001b[1m100/100\u001b[0m \u001b[32m━━━━━━━━━━━━━━━━━━━━\u001b[0m\u001b[37m\u001b[0m \u001b[1m8s\u001b[0m 77ms/step - accuracy: 1.0000 - loss: 6.7956e-04 - val_accuracy: 0.9925 - val_loss: 0.0462\n",
            "Epoch 19/30\n",
            "\u001b[1m100/100\u001b[0m \u001b[32m━━━━━━━━━━━━━━━━━━━━\u001b[0m\u001b[37m\u001b[0m \u001b[1m8s\u001b[0m 77ms/step - accuracy: 1.0000 - loss: 5.6827e-04 - val_accuracy: 0.9887 - val_loss: 0.0534\n",
            "Epoch 20/30\n",
            "\u001b[1m100/100\u001b[0m \u001b[32m━━━━━━━━━━━━━━━━━━━━\u001b[0m\u001b[37m\u001b[0m \u001b[1m10s\u001b[0m 77ms/step - accuracy: 1.0000 - loss: 4.0463e-04 - val_accuracy: 0.9887 - val_loss: 0.0504\n",
            "Epoch 21/30\n",
            "\u001b[1m100/100\u001b[0m \u001b[32m━━━━━━━━━━━━━━━━━━━━\u001b[0m\u001b[37m\u001b[0m \u001b[1m9s\u001b[0m 88ms/step - accuracy: 1.0000 - loss: 3.4241e-04 - val_accuracy: 0.9887 - val_loss: 0.0593\n",
            "Epoch 22/30\n",
            "\u001b[1m100/100\u001b[0m \u001b[32m━━━━━━━━━━━━━━━━━━━━\u001b[0m\u001b[37m\u001b[0m \u001b[1m8s\u001b[0m 76ms/step - accuracy: 1.0000 - loss: 3.5840e-04 - val_accuracy: 0.9912 - val_loss: 0.0471\n",
            "Epoch 23/30\n",
            "\u001b[1m100/100\u001b[0m \u001b[32m━━━━━━━━━━━━━━━━━━━━\u001b[0m\u001b[37m\u001b[0m \u001b[1m11s\u001b[0m 88ms/step - accuracy: 1.0000 - loss: 3.1601e-04 - val_accuracy: 0.9912 - val_loss: 0.0466\n",
            "Epoch 24/30\n",
            "\u001b[1m100/100\u001b[0m \u001b[32m━━━━━━━━━━━━━━━━━━━━\u001b[0m\u001b[37m\u001b[0m \u001b[1m10s\u001b[0m 89ms/step - accuracy: 1.0000 - loss: 3.1619e-04 - val_accuracy: 0.9912 - val_loss: 0.0483\n",
            "Transfer Learning (VGG16) training finished.\n",
            "\n",
            "All individual models trained.\n"
          ]
        }
      ],
      "source": []
    },
    {
      "cell_type": "markdown",
      "id": "JANqsjaZWdZE",
      "metadata": {
        "id": "JANqsjaZWdZE"
      },
      "source": [
        "### 12. Evaluate Individual Models"
      ]
    },
    {
      "cell_type": "code",
      "execution_count": null,
      "id": "tG0qvVvQWZ41",
      "metadata": {
        "colab": {
          "base_uri": "https://localhost:8080/",
          "height": 1000
        },
        "id": "tG0qvVvQWZ41",
        "outputId": "4a97a766-1d1b-4315-e645-8b36570baa17"
      },
      "outputs": [
        {
          "name": "stdout",
          "output_type": "stream",
          "text": [
            "\n",
            "--- Evaluating CatBoost ---\n",
            "Accuracy: 0.9470\n",
            "\n",
            "Classification Report:\n",
            "              precision    recall  f1-score   support\n",
            "\n",
            "    No Tumor       0.90      0.91      0.91       280\n",
            "       Tumor       0.97      0.96      0.96       720\n",
            "\n",
            "    accuracy                           0.95      1000\n",
            "   macro avg       0.93      0.94      0.93      1000\n",
            "weighted avg       0.95      0.95      0.95      1000\n",
            "\n",
            "\n",
            "Confusion Matrix:\n",
            "[[256  24]\n",
            " [ 29 691]]\n"
          ]
        },
        {
          "data": {
            "image/png": "[encoded data removed]",
            "text/plain": [
              "<Figure size 600x400 with 2 Axes>"
            ]
          },
          "metadata": {},
          "output_type": "display_data"
        },
        {
          "name": "stdout",
          "output_type": "stream",
          "text": [
            "AUC: 0.9829\n",
            "\n",
            "--- Evaluating AdaBoost ---\n",
            "Accuracy: 0.9600\n",
            "\n",
            "Classification Report:\n",
            "              precision    recall  f1-score   support\n",
            "\n",
            "    No Tumor       0.94      0.91      0.93       280\n",
            "       Tumor       0.97      0.98      0.97       720\n",
            "\n",
            "    accuracy                           0.96      1000\n",
            "   macro avg       0.96      0.94      0.95      1000\n",
            "weighted avg       0.96      0.96      0.96      1000\n",
            "\n",
            "\n",
            "Confusion Matrix:\n",
            "[[255  25]\n",
            " [ 15 705]]\n"
          ]
        },
        {
          "data": {
            "image/png": "[encoded data removed]",
            "text/plain": [
              "<Figure size 600x400 with 2 Axes>"
            ]
          },
          "metadata": {},
          "output_type": "display_data"
        },
        {
          "name": "stdout",
          "output_type": "stream",
          "text": [
            "AUC: 0.9866\n",
            "\n",
            "--- Evaluating CNN ---\n",
            "\u001b[1m32/32\u001b[0m \u001b[32m━━━━━━━━━━━━━━━━━━━━\u001b[0m\u001b[37m\u001b[0m \u001b[1m0s\u001b[0m 8ms/step\n",
            "Accuracy: 0.9620\n",
            "\n",
            "Classification Report:\n",
            "              precision    recall  f1-score   support\n",
            "\n",
            "    No Tumor       0.93      0.94      0.93       280\n",
            "       Tumor       0.98      0.97      0.97       720\n",
            "\n",
            "    accuracy                           0.96      1000\n",
            "   macro avg       0.95      0.96      0.95      1000\n",
            "weighted avg       0.96      0.96      0.96      1000\n",
            "\n",
            "\n",
            "Confusion Matrix:\n",
            "[[263  17]\n",
            " [ 21 699]]\n"
          ]
        },
        {
          "data": {
            "image/png": "[encoded data removed]",
            "text/plain": [
              "<Figure size 600x400 with 2 Axes>"
            ]
          },
          "metadata": {},
          "output_type": "display_data"
        },
        {
          "name": "stdout",
          "output_type": "stream",
          "text": [
            "AUC: 0.9789\n",
            "\n",
            "--- Evaluating Transfer Learning (VGG16) ---\n",
            "\u001b[1m32/32\u001b[0m \u001b[32m━━━━━━━━━━━━━━━━━━━━\u001b[0m\u001b[37m\u001b[0m \u001b[1m2s\u001b[0m 56ms/step\n",
            "Accuracy: 0.9840\n",
            "\n",
            "Classification Report:\n",
            "              precision    recall  f1-score   support\n",
            "\n",
            "    No Tumor       0.96      0.98      0.97       280\n",
            "       Tumor       0.99      0.98      0.99       720\n",
            "\n",
            "    accuracy                           0.98      1000\n",
            "   macro avg       0.98      0.98      0.98      1000\n",
            "weighted avg       0.98      0.98      0.98      1000\n",
            "\n",
            "\n",
            "Confusion Matrix:\n",
            "[[275   5]\n",
            " [ 11 709]]\n"
          ]
        },
        {
          "data": {
            "image/png": "[encoded data removed]",
            "text/plain": [
              "<Figure size 600x400 with 2 Axes>"
            ]
          },
          "metadata": {},
          "output_type": "display_data"
        },
        {
          "name": "stdout",
          "output_type": "stream",
          "text": [
            "AUC: 0.9973\n"
          ]
        }
      ],
      "source": []
    },
    {
      "cell_type": "markdown",
      "id": "0842d590",
      "metadata": {
        "id": "0842d590"
      },
      "source": [
        "### 11. SHAP explainability\n",
        "\n",
        "In this section, we apply SHAP (SHapley Additive exPlanations) to interpret model predictions. SHAP assigns each feature an importance value for a particular prediction, based on game-theoretic Shapley values\n",
        ". Typically, we pick one model (often CatBoost or a tree-based model) and create an explainer:\n",
        "\n",
        "import shap\n",
        "explainer = shap.TreeExplainer(cat_model)\n",
        "shap_values = explainer.shap_values(X_train)\n",
        "shap.summary_plot(shap_values, X_train)\n",
        "\n",
        "This code computes SHAP values for the training data and makes a summary plot. Each point on the summary shows how a feature (e.g. pixel intensity or a derived feature) influences the prediction. We might also compute SHAP values for individual test images and display a waterfall plot. SHAP helps us understand why the model made a decision (e.g. which image regions or features drove a “tumor” prediction). This adds interpretability to our pipeline, which is especially important in medical applications.\n",
        "\n",
        "    Initialize a SHAP explainer appropriate for the model (e.g. TreeExplainer for CatBoost).\n",
        "\n",
        "    Compute shap_values on a dataset (train or test).\n",
        "\n",
        "    Use plotting functions like shap.summary_plot or shap.waterfall_plot to visualize feature contributions.\n",
        "\n",
        "    SHAP shows the impact of each feature on the model’s output, providing insight into predictions\n",
        "    ."
      ]
    },
    {
      "cell_type": "code",
      "execution_count": null,
      "id": "f6382e43",
      "metadata": {
        "colab": {
          "base_uri": "https://localhost:8080/",
          "height": 973
        },
        "id": "f6382e43",
        "outputId": "76ec575e-42e1-4b92-f0da-ab5e2769b0aa"
      },
      "outputs": [
        {
          "data": {
            "image/png": "[encoded data removed]",
            "text/plain": [
              "<Figure size 800x950 with 2 Axes>"
            ]
          },
          "metadata": {},
          "output_type": "display_data"
        }
      ],
      "source": []
    },
    {
      "cell_type": "markdown",
      "id": "2defda22",
      "metadata": {
        "id": "2defda22"
      },
      "source": [
        "### 12. Cross-validation\n",
        "\n",
        "Here we use cross-validation to evaluate model performance more robustly. Instead of a single train/test split, k-fold cross-validation repeatedly splits data into training and validation folds and averages results. For example:\n",
        "\n",
        "\n",
        "This runs 5-fold CV, training on 4 folds and validating on 1 fold, rotating through all folds\n",
        "scikit-learn.org\n",
        ". The average accuracy and standard deviation are reported. Cross-validation helps ensure that our model’s performance is not a lucky result of one particular split. It gives a sense of how well the model generalizes. In our pipeline, we might do CV on the best model or ensemble to get confidence in its accuracy before deploying.\n",
        "\n",
        "    Call cross_val_score(estimator, X, y, cv=k) to run k-fold CV (often k=5 or 10).\n",
        "\n",
        "    This returns an array of scores (one per fold).\n",
        "\n",
        "    Compute the mean and standard deviation to summarize performance.\n",
        "\n",
        "    Cross-validation averages over multiple splits\n",
        "    scikit-learn.org\n",
        "    , reducing variance in the accuracy estimate."
      ]
    },
    {
      "cell_type": "markdown",
      "id": "Zx0AwdG1FJLC",
      "metadata": {
        "id": "Zx0AwdG1FJLC"
      },
      "source": []
    },
    {
      "cell_type": "markdown",
      "id": "5e0PS84RFNtJ",
      "metadata": {
        "id": "5e0PS84RFNtJ"
      },
      "source": [
        "# ### 12. Weighted Average Ensemble"
      ]
    },
    {
      "cell_type": "code",
      "execution_count": null,
      "id": "xSAHDcUZFRbL",
      "metadata": {
        "colab": {
          "base_uri": "https://localhost:8080/",
          "height": 809
        },
        "id": "xSAHDcUZFRbL",
        "outputId": "1d25ad1a-6933-431a-86ee-68cd62d212ee"
      },
      "outputs": [
        {
          "name": "stdout",
          "output_type": "stream",
          "text": [
            "\u001b[1m32/32\u001b[0m \u001b[32m━━━━━━━━━━━━━━━━━━━━\u001b[0m\u001b[37m\u001b[0m \u001b[1m0s\u001b[0m 7ms/step\n",
            "\u001b[1m32/32\u001b[0m \u001b[32m━━━━━━━━━━━━━━━━━━━━\u001b[0m\u001b[37m\u001b[0m \u001b[1m2s\u001b[0m 54ms/step\n",
            "\n",
            "--- Evaluating Weighted Average Ensemble ---\n",
            "Ensemble Accuracy: 0.976\n",
            "\n",
            "Classification Report:\n",
            "              precision    recall  f1-score   support\n",
            "\n",
            "    No Tumor       0.94      0.97      0.96       280\n",
            "       Tumor       0.99      0.98      0.98       720\n",
            "\n",
            "    accuracy                           0.98      1000\n",
            "   macro avg       0.97      0.97      0.97      1000\n",
            "weighted avg       0.98      0.98      0.98      1000\n",
            "\n",
            "\n",
            "Confusion Matrix:\n",
            "[[272   8]\n",
            " [ 16 704]]\n"
          ]
        },
        {
          "data": {
            "image/png": "[encoded data removed]",
            "text/plain": [
              "<Figure size 600x400 with 2 Axes>"
            ]
          },
          "metadata": {},
          "output_type": "display_data"
        },
        {
          "name": "stdout",
          "output_type": "stream",
          "text": [
            "Ensemble AUC: 0.9951\n",
            "\n",
            "Ensemble weights: [0.3, 0.3, 0.2, 0.2]\n"
          ]
        }
      ],
      "source": []
    },
    {
      "cell_type": "markdown",
      "id": "9-np8-NgDLr9",
      "metadata": {
        "id": "9-np8-NgDLr9"
      },
      "source": [
        "### Model saving"
      ]
    },
    {
      "cell_type": "markdown",
      "id": "056fe6d3",
      "metadata": {
        "id": "056fe6d3"
      },
      "source": [
        "### 13. Testing on custom image\n",
        "\n",
        "This section shows how to use our trained model(s) on a new, user-provided image. The code will load an image file (e.g. via cv2.imread or Image.open) and preprocess it just like the training data (resize, normalize).\n",
        "\n",
        "We obtain prediction (e.g. 0 or 1) and a probability/confidence for that class. We then print or return a message like “Tumor Detected (90% confidence)” if predicted class=1. This step demonstrates deployment: the model can take any appropriate image and give a result. It fits the pipeline by connecting the trained model to actual use. Using predict gives the class label, while predict_proba yields the probability for each class (to be discussed next).\n",
        "\n",
        "    Load the external image (e.g. with cv2.imread or PIL.Image.open) and apply the same resizing/normalization used in training.\n",
        "\n",
        "    Use model.predict([image]) to get the predicted class.\n",
        "\n",
        "    Use model.predict_proba([image]) to get class probabilities.\n",
        "\n",
        "    Interpret the output (e.g. “Tumor” if class=1) and optionally display the image with prediction."
      ]
    },
    {
      "cell_type": "code",
      "execution_count": null,
      "id": "472a14a6",
      "metadata": {
        "colab": {
          "base_uri": "https://localhost:8080/"
        },
        "id": "472a14a6",
        "outputId": "54f790a8-014e-4231-cabb-56070890fdc4"
      },
      "outputs": [
        {
          "name": "stdout",
          "output_type": "stream",
          "text": [
            "Prediction: Tumor (98.91%)\n",
            "Prediction: Tumor (98.91%)\n"
          ]
        }
      ],
      "source": []
    },
    {
      "cell_type": "markdown",
      "id": "a94b3dc5",
      "metadata": {
        "id": "a94b3dc5"
      },
      "source": [
        "### 14. Visualizing predictions\n",
        "\n",
        "We often visualize how models perform by showing predictions on images. The code might loop over a few test images and plot them with predicted vs. true labels. For example:\n",
        "\n",
        "\n",
        "This displays images side by side with titles like “Pred: Tumor (True: No Tumor)”. Such visual checks help us see specific successes or failures. It also aids communication: stakeholders can see sample cases and model outcomes. This step uses plotting (Matplotlib) to combine raw data with model output for human interpretation.\n",
        "\n",
        "    Plot a few test images using plt.imshow.\n",
        "\n",
        "    Annotate each plot with its predicted label and true label.\n",
        "\n",
        "    Color-code or mark correctly vs. incorrectly classified samples.\n",
        "\n",
        "    This visual feedback can reveal patterns (e.g. consistently wrong on small tumors)."
      ]
    },
    {
      "cell_type": "code",
      "execution_count": null,
      "id": "856fcec3",
      "metadata": {
        "id": "856fcec3"
      },
      "outputs": [],
      "source": []
    },
    {
      "cell_type": "markdown",
      "id": "0c5c9c92",
      "metadata": {
        "id": "0c5c9c92"
      },
      "source": [
        "## 15. Confidence score for one image\n",
        "\n",
        "Here we compute a confidence score for a single prediction. After predicting the class, we use predict_proba to see how confident the model is. For instance:\n",
        "\n",
        "\n",
        "The array probs contains the probability for each class. We pick the probability of the predicted class and multiply by 100 to get a percentage. For example, a result might be 92%, meaning the model is quite confident. According to scikit-learn docs, predict_proba “returns probability estimates for each class label”\n",
        "geeksforgeeks.org\n",
        ". This confidence score provides more nuance than a simple label – it helps users understand how sure the model is about its decision.\n",
        "\n",
        "    Call predict_proba(image)[0] to get probabilities for each class (e.g. [0.08, 0.92] for “no” vs “yes”).\n",
        "\n",
        "    Identify the index of the predicted class and extract that probability.\n",
        "\n",
        "    Multiply by 100 to present it as a percentage.\n",
        "\n",
        "    Present this score alongside the prediction (e.g. “Tumor (92% confident)”"
      ]
    },
    {
      "cell_type": "code",
      "execution_count": null,
      "id": "2e26c202",
      "metadata": {
        "id": "2e26c202"
      },
      "outputs": [],
      "source": []
    },
    {
      "cell_type": "markdown",
      "id": "1574d1e7",
      "metadata": {
        "id": "1574d1e7"
      },
      "source": [
        "### 16. Displaying misclassified samples\n",
        "\n",
        "Finally, we check which test images were misclassified. The code finds indices where the predicted label differs from the true label, e.g.:\n",
        "\n",
        "wrong_indices = np.where(y_pred != y_test)[0]\n",
        "\n",
        "Then it might loop over these indices and display those images with actual vs. predicted labels. For example:\n",
        "\n",
        "for i in wrong_indices[:5]:\n",
        "    plt.imshow(X_test[i], cmap='gray')\n",
        "    plt.title(f\"True: {y_test[i]}, Pred: {y_pred[i]}\")\n",
        "    plt.show()\n",
        "\n",
        "This reveals “failure cases” where the model was wrong. Examining misclassified samples helps us understand model weaknesses. For instance, maybe very small tumors were missed. It’s a useful diagnostic step: by visualizing errors, we can potentially refine preprocessing or model design. In the overall pipeline, this final check ensures we scrutinize and interpret mistakes before deployment.\n",
        "\n",
        "    Compute where y_pred != y_test to identify misclassified samples.\n",
        "\n",
        "    Display a few of these images with their true and predicted labels.\n",
        "\n",
        "    Analyze patterns in mistakes (e.g. certain tumor sizes or positions).\n",
        "\n",
        "    This step is crucial for understanding and improving the model’s weaknesses."
      ]
    },
    {
      "cell_type": "code",
      "execution_count": null,
      "id": "778cf5fe",
      "metadata": {
        "id": "778cf5fe"
      },
      "outputs": [],
      "source": []
    },
    {
      "cell_type": "markdown",
      "id": "SSZ_5BJkFlyf",
      "metadata": {
        "id": "SSZ_5BJkFlyf"
      },
      "source": [
        " ### Model Saving (Modified for Flask App)\n",
        "\n",
        "    This section is crucial for your Flask app. We need to save:\n",
        "        Each individual trained model (CatBoost, AdaBoost, CNN, Transfer Learning).\n",
        "        The class_weights_dict used for training (important if you need to retrain or understand training bias).\n",
        "        The ensemble_weights for the weighted average ensemble.\n",
        "        Metadata like IMAGE_SIZE and CLASSES.\n",
        "        A metadata file (e.g., a dictionary or JSON) that contains the paths to the saved models and the ensemble weights, which the Flask app can load to know what models to use and where they are.\n"
      ]
    },
    {
      "cell_type": "markdown",
      "id": "422f9a25",
      "metadata": {
        "id": "422f9a25"
      },
      "source": [
        "### Retraining the models\n",
        "\n",
        "Now that you have the necessary data loaded and preprocessed, you can retrain the models. This section will call the training functions defined earlier in the notebook."
      ]
    },
    {
      "cell_type": "markdown",
      "id": "4f2a86e3",
      "metadata": {
        "id": "4f2a86e3"
      },
      "source": [
        "### Retraining Pipeline with Model-Specific Preprocessing and Evaluation"
      ]
    },
    {
      "cell_type": "markdown",
      "id": "c7ef7898",
      "metadata": {
        "id": "c7ef7898"
      },
      "source": [
        "### Model Training"
      ]
    },
    {
      "cell_type": "markdown",
      "id": "z65m2SPvYE7p",
      "metadata": {
        "id": "z65m2SPvYE7p"
      },
      "source": [
        "restnet50V2 training"
      ]
    },
    {
      "cell_type": "code",
      "execution_count": null,
      "id": "ZMRAPxRWXxrW",
      "metadata": {
        "id": "ZMRAPxRWXxrW"
      },
      "outputs": [],
      "source": [
        "from tensorflow.keras.applications import ResNet50V2\n",
        "from tensorflow.keras.models import Model\n",
        "from tensorflow.keras.layers import Dense, Flatten\n",
        "from tensorflow.keras.optimizers import Adam\n",
        "\n",
        "def build_resnet50v2(input_shape=(224, 224, 3)):\n",
        "    base = ResNet50V2(weights='imagenet', include_top=False, input_shape=input_shape)\n",
        "    x = Flatten()(base.output)\n",
        "    x = Dense(128, activation='relu')(x)\n",
        "    output = Dense(1, activation='sigmoid')(x)\n",
        "    model = Model(inputs=base.input, outputs=output)\n",
        "\n",
        "    for layer in base.layers:\n",
        "        layer.trainable = False\n",
        "\n",
        "    model.compile(optimizer=Adam(learning_rate=0.0001), loss='binary_crossentropy', metrics=['accuracy'])\n",
        "    return model\n"
      ]
    },
    {
      "cell_type": "markdown",
      "id": "IcB7YxzJYMZu",
      "metadata": {
        "id": "IcB7YxzJYMZu"
      },
      "source": [
        "EfficientNetB0 training"
      ]
    },
    {
      "cell_type": "code",
      "execution_count": null,
      "id": "TVuecVTAX9rw",
      "metadata": {
        "id": "TVuecVTAX9rw"
      },
      "outputs": [],
      "source": [
        "from tensorflow.keras.applications import EfficientNetB0\n",
        "from tensorflow.keras.layers import GlobalAveragePooling2D, Dense\n",
        "from tensorflow.keras.models import Model\n",
        "\n",
        "def build_efficientnet(input_shape=(224, 224, 3)):\n",
        "    base = EfficientNetB0(include_top=False, weights='imagenet', input_shape=input_shape)\n",
        "    x = GlobalAveragePooling2D()(base.output)\n",
        "    x = Dense(128, activation='relu')(x)\n",
        "    output = Dense(1, activation='sigmoid')(x)\n",
        "    model = Model(inputs=base.input, outputs=output)\n",
        "\n",
        "    for layer in base.layers:\n",
        "        layer.trainable = False\n",
        "\n",
        "    model.compile(optimizer='adam', loss='binary_crossentropy', metrics=['accuracy'])\n",
        "    return model\n"
      ]
    },
    {
      "cell_type": "markdown",
      "id": "762abb87",
      "metadata": {
        "id": "762abb87"
      },
      "source": [
        "### Model Evaluation"
      ]
    },
    {
      "cell_type": "markdown",
      "id": "a3fc33b1",
      "metadata": {
        "id": "a3fc33b1"
      },
      "source": [
        "### Model Saving"
      ]
    },
    {
      "cell_type": "markdown",
      "id": "f1b1a19c",
      "metadata": {
        "id": "f1b1a19c"
      },
      "source": [
        "### 10. Model Training Functions and Definitions"
      ]
    },
    {
      "cell_type": "markdown",
      "id": "9c7c5f70",
      "metadata": {
        "id": "9c7c5f70"
      },
      "source": [
        "### Brain Tumor Detection Machine Learning Retraining Pipeline"
      ]
    },
    {
      "cell_type": "markdown",
      "id": "134eaf97",
      "metadata": {
        "id": "134eaf97"
      },
      "source": [
        "### 1. Setup and Data Loading"
      ]
    },
    {
      "cell_type": "code",
      "execution_count": null,
      "id": "XnrUIP3hpJdW",
      "metadata": {
        "id": "XnrUIP3hpJdW"
      },
      "outputs": [],
      "source": []
    },
    {
      "cell_type": "code",
      "execution_count": null,
      "id": "VuUrpyJ0pKTS",
      "metadata": {
        "colab": {
          "base_uri": "https://localhost:8080/"
        },
        "id": "VuUrpyJ0pKTS",
        "outputId": "e4dadb7d-eb8d-4e8f-e149-e65b647034e0"
      },
      "outputs": [
        {
          "name": "stdout",
          "output_type": "stream",
          "text": [
            "Mounted at /content/drive/\n"
          ]
        }
      ],
      "source": [
        "from google.colab import drive\n",
        "drive.mount('/content/drive/', force_remount=True)"
      ]
    },
    {
      "cell_type": "code",
      "execution_count": null,
      "id": "b1e635ca",
      "metadata": {
        "colab": {
          "base_uri": "https://localhost:8080/"
        },
        "id": "b1e635ca",
        "outputId": "c6125359-ad28-4cf3-f600-4d7b8c391dea"
      },
      "outputs": [
        {
          "name": "stdout",
          "output_type": "stream",
          "text": [
            "Retrained models and metadata will be saved to: /content/drive/MyDrive/trained_models/retrained_models_v2\n",
            "Loading images from: /content/drive/MyDrive/archive/Training\n",
            "Finished loading. Total images: 5712\n",
            "Number of images per class:\n",
            "  notumor: 1595\n",
            "  meningioma: 1339\n",
            "  glioma: 1321\n",
            "  pituitary: 1457\n",
            "Label distribution: {np.int64(0): np.int64(1595), np.int64(1): np.int64(4117)}\n",
            "Training data loaded.\n",
            "Loading images from: /content/drive/MyDrive/archive/Testing\n",
            "Finished loading. Total images: 1311\n",
            "Number of images per class:\n",
            "  notumor: 405\n",
            "  meningioma: 306\n",
            "  glioma: 300\n",
            "  pituitary: 300\n",
            "Label distribution: {np.int64(0): np.int64(405), np.int64(1): np.int64(906)}\n",
            "Testing data loaded.\n"
          ]
        }
      ],
      "source": [
        "# Ensure necessary libraries are imported\n",
        "import os\n",
        "import numpy as np\n",
        "import pandas as pd\n",
        "import cv2\n",
        "import joblib\n",
        "import tensorflow as tf\n",
        "from sklearn.model_selection import train_test_split\n",
        "from sklearn.utils import class_weight\n",
        "from sklearn.metrics import accuracy_score, classification_report, confusion_matrix, roc_auc_score\n",
        "from pathlib import Path\n",
        "import matplotlib.pyplot as plt\n",
        "import seaborn as sns\n",
        "import albumentations as A # Assuming Albumentations is already installed\n",
        "\n",
        "# Import necessary Keras components for model building\n",
        "from keras.models import Sequential, Model\n",
        "from keras.layers import Conv2D, MaxPooling2D, Flatten, Dense, GlobalAveragePooling2D\n",
        "from keras.optimizers import Adam\n",
        "from tensorflow.keras.applications import VGG16, ResNet50V2, EfficientNetB0\n",
        "from tensorflow.keras.callbacks import EarlyStopping\n",
        "\n",
        "\n",
        "# Define the directory to save models and metadata within your Google Drive\n",
        "DATA_DIR = '/content/drive/MyDrive/archive'\n",
        "SAVE_DIR = '/content/drive/MyDrive/trained_models/'\n",
        "RETRAINED_MODELS_DIR = os.path.join(SAVE_DIR, 'retrained_models_v2') # Use a new directory for this version\n",
        "Path(RETRAINED_MODELS_DIR).mkdir(parents=True, exist_ok=True)\n",
        "print(f\"Retrained models and metadata will be saved to: {RETRAINED_MODELS_DIR}\")\n",
        "\n",
        "# Configuration\n",
        "TRAINING_DIR = os.path.join(DATA_DIR, 'Training')\n",
        "TESTING_DIR = os.path.join(DATA_DIR, 'Testing')\n",
        "IMAGE_SIZE = (128, 128)\n",
        "CLASSES = {\n",
        "    'notumor': 0,\n",
        "    'meningioma': 1,\n",
        "    'glioma': 1,\n",
        "    'pituitary': 1\n",
        "}\n",
        "TARGET_SIZE_DOWNSAMPLE = 5000 # Target number of images after downsampling\n",
        "\n",
        "# Function to load and preprocess images (common steps)\n",
        "def load_images_from_dir(directory, classes, image_size):\n",
        "    X, Y = [], []\n",
        "    total_images = 0\n",
        "    class_counts = {}\n",
        "\n",
        "    print(f\"Loading images from: {directory}\")\n",
        "\n",
        "    for cls in classes:\n",
        "        path = os.path.join(directory, cls)\n",
        "        if not os.path.exists(path):\n",
        "            print(f\"Warning: Directory not found - {path}\")\n",
        "            continue\n",
        "\n",
        "        num_images = 0\n",
        "        for fname in os.listdir(path):\n",
        "            fpath = os.path.join(path, fname)\n",
        "            # Check if it's a file and not a hidden file\n",
        "            if os.path.isfile(fpath) and not fname.startswith('.'):\n",
        "                img = cv2.imread(fpath, cv2.IMREAD_GRAYSCALE) # Load as grayscale\n",
        "                if img is not None:\n",
        "                    # Resize and normalize\n",
        "                    img = cv2.resize(img, image_size) / 255.0\n",
        "                    X.append(img)\n",
        "                    Y.append(classes[cls])\n",
        "                    num_images += 1\n",
        "        class_counts[cls] = num_images\n",
        "        total_images += num_images\n",
        "\n",
        "    X = np.array(X)\n",
        "    Y = np.array(Y)\n",
        "\n",
        "    print(f\"Finished loading. Total images: {total_images}\")\n",
        "    print(\"Number of images per class:\")\n",
        "    for cls, count in class_counts.items():\n",
        "        print(f\"  {cls}: {count}\")\n",
        "    if len(np.unique(Y)) > 0:\n",
        "        print(\"Label distribution:\", dict(zip(*np.unique(Y, return_counts=True))))\n",
        "\n",
        "    return X, Y\n",
        "\n",
        "# Load training data\n",
        "X_train_full, y_train_full = load_images_from_dir(TRAINING_DIR, CLASSES, IMAGE_SIZE)\n",
        "print(\"Training data loaded.\")\n",
        "\n",
        "# Load testing data\n",
        "X_test, y_test = load_images_from_dir(TESTING_DIR, CLASSES, IMAGE_SIZE)\n",
        "print(\"Testing data loaded.\")"
      ]
    },
    {
      "cell_type": "markdown",
      "id": "f5af2ebe",
      "metadata": {
        "id": "f5af2ebe"
      },
      "source": [
        "### 2. Data Augmentation and Downsampling"
      ]
    },
    {
      "cell_type": "code",
      "execution_count": null,
      "id": "YPuWEAiougxc",
      "metadata": {
        "colab": {
          "base_uri": "https://localhost:8080/"
        },
        "id": "YPuWEAiougxc",
        "outputId": "9a366a7e-187a-4de3-8216-cc1a2e983425"
      },
      "outputs": [
        {
          "name": "stdout",
          "output_type": "stream",
          "text": [
            "Requirement already satisfied: albumentations in /usr/local/lib/python3.11/dist-packages (2.0.5)\n",
            "Requirement already satisfied: numpy>=1.24.4 in /usr/local/lib/python3.11/dist-packages (from albumentations) (1.26.4)\n",
            "Requirement already satisfied: scipy>=1.10.0 in /usr/local/lib/python3.11/dist-packages (from albumentations) (1.13.1)\n",
            "Requirement already satisfied: PyYAML in /usr/local/lib/python3.11/dist-packages (from albumentations) (6.0.2)\n",
            "Requirement already satisfied: pydantic>=2.9.2 in /usr/local/lib/python3.11/dist-packages (from albumentations) (2.10.6)\n",
            "Requirement already satisfied: albucore==0.0.23 in /usr/local/lib/python3.11/dist-packages (from albumentations) (0.0.23)\n",
            "Requirement already satisfied: opencv-python-headless>=4.9.0.80 in /usr/local/lib/python3.11/dist-packages (from albumentations) (4.11.0.86)\n",
            "Requirement already satisfied: stringzilla>=3.10.4 in /usr/local/lib/python3.11/dist-packages (from albucore==0.0.23->albumentations) (3.12.2)\n",
            "Requirement already satisfied: simsimd>=5.9.2 in /usr/local/lib/python3.11/dist-packages (from albucore==0.0.23->albumentations) (6.2.1)\n",
            "Requirement already satisfied: annotated-types>=0.6.0 in /usr/local/lib/python3.11/dist-packages (from pydantic>=2.9.2->albumentations) (0.7.0)\n",
            "Requirement already satisfied: pydantic-core==2.27.2 in /usr/local/lib/python3.11/dist-packages (from pydantic>=2.9.2->albumentations) (2.27.2)\n",
            "Requirement already satisfied: typing-extensions>=4.12.2 in /usr/local/lib/python3.11/dist-packages (from pydantic>=2.9.2->albumentations) (4.12.2)\n"
          ]
        }
      ],
      "source": [
        "pip install albumentations"
      ]
    },
    {
      "cell_type": "code",
      "execution_count": null,
      "id": "d1d0406f",
      "metadata": {
        "colab": {
          "base_uri": "https://localhost:8080/"
        },
        "id": "d1d0406f",
        "outputId": "8e4704a9-f0b9-46bf-f639-76e1d12df51f"
      },
      "outputs": [
        {
          "name": "stderr",
          "output_type": "stream",
          "text": [
            "<ipython-input-3-827682748>:13: UserWarning: Argument(s) 'alpha_affine' are not valid for transform ElasticTransform\n",
            "  A.ElasticTransform(p=0.2, alpha=1, sigma=50, alpha_affine=50), # Note: alpha_affine might be deprecated in newer versions\n"
          ]
        },
        {
          "name": "stdout",
          "output_type": "stream",
          "text": [
            "\n",
            "Applying data augmentation...\n",
            "Data augmentation complete.\n",
            "Combined Original and Augmented Dataset Size: (11424, 128, 128) (11424,)\n",
            "\n",
            "Applying balanced downsampling...\n",
            "Downsampling complete.\n",
            "Reduced dataset shape: (5000, 128, 128) (5000,)\n",
            "Final dataset shape before splitting: (5000, 128, 128) (5000,)\n"
          ]
        }
      ],
      "source": [
        "# Defining augmentation pipeline (Ensure Albumentations is imported and this is\n",
        "import albumentations as A\n",
        "\n",
        "augment = A.Compose([\n",
        "    A.HorizontalFlip(p=0.5),\n",
        "    A.RandomBrightnessContrast(p=0.5),\n",
        "    A.Affine(\n",
        "        scale=(0.9, 1.1),\n",
        "        translate_percent=(-0.1, 0.1),\n",
        "        rotate=(-15, 15),\n",
        "        p=0.5\n",
        "    ),\n",
        "    A.ElasticTransform(p=0.2, alpha=1, sigma=50, alpha_affine=50), # Note: alpha_affine might be deprecated in newer versions\n",
        "    A.GaussianBlur(p=0.2, blur_limit=(3, 7))\n",
        "])\n",
        "\n",
        "# Applying Augmentation\n",
        "print(\"\\nApplying data augmentation...\")\n",
        "aug_X, aug_Y = [], []\n",
        "\n",
        "# Convert X_train_full to uint8 for Albumentations, then back to float after augment\n",
        "X_train_full_uint8 = (X_train_full * 255).astype(np.uint8)\n",
        "\n",
        "for img, label in zip(X_train_full_uint8, y_train_full):\n",
        "    # Augment requires 3 channels for some transformations, convert grayscale to 3 channels\n",
        "    img_rgb = cv2.cvtColor(img, cv2.COLOR_GRAY2RGB)\n",
        "    augmented = augment(image=img_rgb)['image']\n",
        "    # Convert back to grayscale after augmentation if needed for models expecting 1 channel\n",
        "    augmented_gray = cv2.cvtColor(augmented, cv2.COLOR_RGB2GRAY)\n",
        "    augmented_gray = augmented_gray / 255.0 # Normalize back\n",
        "\n",
        "    aug_X.append(augmented_gray)\n",
        "    aug_Y.append(label)\n",
        "\n",
        "aug_X = np.array(aug_X)\n",
        "aug_Y = np.array(aug_Y)\n",
        "\n",
        "# Combining original and augmented data\n",
        "X = np.concatenate((X_train_full, aug_X), axis=0)\n",
        "Y = np.concatenate((y_train_full, aug_Y), axis=0)\n",
        "\n",
        "print(\"Data augmentation complete.\")\n",
        "print(\"Combined Original and Augmented Dataset Size:\", X.shape, Y.shape)\n",
        "\n",
        "\n",
        "# Balanced Downsampling\n",
        "print(\"\\nApplying balanced downsampling...\")\n",
        "if TARGET_SIZE_DOWNSAMPLE < len(X):\n",
        "    from sklearn.utils import resample\n",
        "    # Combine X and Y into one list for sampling\n",
        "    combined = list(zip(list(X), list(Y)))\n",
        "    # Downsample (randomly select TARGET_SIZE_DOWNSAMPLE images)\n",
        "    sampled = resample(combined,\n",
        "                        n_samples=TARGET_SIZE_DOWNSAMPLE,\n",
        "                        random_state=42,\n",
        "                        stratify=list(Y) # Stratify based on the original Y list\n",
        "                        )\n",
        "    # Unzip\n",
        "    X_sampled, Y_sampled = zip(*sampled)\n",
        "    # Convert back to numpy arrays\n",
        "    X = np.array(X_sampled)\n",
        "    Y = np.array(Y_sampled)\n",
        "    print(\"Downsampling complete.\")\n",
        "    print(\"Reduced dataset shape:\", X.shape, Y.shape)\n",
        "else:\n",
        "    print(\"Target downsample size is larger than or equal to the dataset size. Skipping downsampling.\")\n",
        "    # Ensure X and Y are numpy arrays in case downsampling was skipped\n",
        "    X = np.array(X)\n",
        "    Y = np.array(Y)\n",
        "print(\"Final dataset shape before splitting:\", X.shape, Y.shape)"
      ]
    },
    {
      "cell_type": "markdown",
      "id": "162bdb49",
      "metadata": {
        "id": "162bdb49"
      },
      "source": [
        "### 3. Train/Test Split and Reshaping"
      ]
    },
    {
      "cell_type": "code",
      "execution_count": null,
      "id": "ee3d6e7f",
      "metadata": {
        "colab": {
          "base_uri": "https://localhost:8080/"
        },
        "id": "ee3d6e7f",
        "outputId": "1e40d6b3-a746-4f55-d625-06b0b3e78cc3"
      },
      "outputs": [
        {
          "name": "stdout",
          "output_type": "stream",
          "text": [
            "\n",
            "Splitting data into train and test sets...\n",
            "Stratified train/val/test split complete.\n",
            "Train set size: (3502, 128, 128) (3502,)\n",
            "Validation set size: (748, 128, 128) (748,)\n",
            "Test set size: (750, 128, 128) (750,)\n",
            "\n",
            "Reshaping data for different model types...\n",
            "CatBoost/AdaBoost (Flat) shapes: (3502, 16384) (750, 16384)\n",
            "CNN (1 channel) shapes: (3502, 128, 128, 1) (750, 128, 128, 1)\n",
            "Transfer Learning (3 channels) shapes: (3502, 128, 128, 3) (750, 128, 128, 3)\n"
          ]
        }
      ],
      "source": [
        "from sklearn.model_selection import train_test_split\n",
        "import numpy as np\n",
        "\n",
        "# Split into train+val and test sets (15% test set)\n",
        "print(\"\\nSplitting data into train and test sets...\")\n",
        "X_trainval, X_test, y_trainval, y_test = train_test_split(\n",
        "    X, Y, test_size=0.15, random_state=42, stratify=Y\n",
        ")\n",
        "\n",
        "# Split trainval into train and val sets (15% of total -> val set)\n",
        "X_train, X_val, y_train, y_val = train_test_split(\n",
        "    X_trainval, y_trainval, test_size=0.176, random_state=42, stratify=y_trainval\n",
        ")\n",
        "print(\"Stratified train/val/test split complete.\")\n",
        "print(\"Train set size:\", X_train.shape, y_train.shape)\n",
        "print(\"Validation set size:\", X_val.shape, y_val.shape)\n",
        "print(\"Test set size:\", X_test.shape, y_test.shape)\n",
        "\n",
        "# Reshape based on image size\n",
        "img_width, img_height = IMAGE_SIZE\n",
        "print(\"\\nReshaping data for different model types...\")\n",
        "\n",
        "# --- AdaBoost / CatBoost: Flatten grayscale ---\n",
        "X_train_flat = X_train.reshape(X_train.shape[0], -1)\n",
        "X_val_flat = X_val.reshape(X_val.shape[0], -1)\n",
        "X_test_flat = X_test.reshape(X_test.shape[0], -1)\n",
        "print(\"CatBoost/AdaBoost (Flat) shapes:\", X_train_flat.shape, X_test_flat.shape)\n",
        "\n",
        "# --- CNN: Add channel dimension for grayscale (1 channel) ---\n",
        "X_train_cnn = X_train.reshape(-1, img_width, img_height, 1).astype('float32')\n",
        "X_val_cnn = X_val.reshape(-1, img_width, img_height, 1).astype('float32')\n",
        "X_test_cnn = X_test.reshape(-1, img_width, img_height, 1).astype('float32')\n",
        "print(\"CNN (1 channel) shapes:\", X_train_cnn.shape, X_test_cnn.shape)\n",
        "\n",
        "# --- Transfer Learning (VGG16 etc.): Convert to 3 channels ---\n",
        "X_train_vgg = np.repeat(X_train[..., np.newaxis], 3, axis=-1).astype('float32')\n",
        "X_val_vgg = np.repeat(X_val[..., np.newaxis], 3, axis=-1).astype('float32')\n",
        "X_test_vgg = np.repeat(X_test[..., np.newaxis], 3, axis=-1).astype('float32')\n",
        "print(\"Transfer Learning (3 channels) shapes:\", X_train_vgg.shape, X_test_vgg.shape)\n"
      ]
    },
    {
      "cell_type": "markdown",
      "id": "a9860f1e",
      "metadata": {
        "id": "a9860f1e"
      },
      "source": [
        "### 4. Handle Class Imbalance"
      ]
    },
    {
      "cell_type": "code",
      "execution_count": null,
      "id": "8ee7d07e",
      "metadata": {
        "colab": {
          "base_uri": "https://localhost:8080/"
        },
        "id": "8ee7d07e",
        "outputId": "e10badfa-b355-4b49-cb48-81568c8bc8d9"
      },
      "outputs": [
        {
          "name": "stdout",
          "output_type": "stream",
          "text": [
            "\n",
            "Calculating class weights...\n",
            "Class Weights: {np.int64(0): np.float64(1.7903885480572597), np.int64(1): np.float64(0.6937400950871633)}\n"
          ]
        }
      ],
      "source": [
        "# Handle Class Imbalance\n",
        "print(\"\\nCalculating class weights...\")\n",
        "class_weights = class_weight.compute_class_weight(\n",
        "    class_weight='balanced',\n",
        "    classes=np.unique(y_train),\n",
        "    y=y_train\n",
        ")\n",
        "class_weights_dict = dict(zip(np.unique(y_train), class_weights))\n",
        "print(\"Class Weights:\", class_weights_dict)"
      ]
    },
    {
      "cell_type": "markdown",
      "id": "aadbb1b6",
      "metadata": {
        "id": "aadbb1b6"
      },
      "source": [
        "### Brain Tumor Detection Machine Learning Retraining Pipeline"
      ]
    },
    {
      "cell_type": "markdown",
      "id": "5f86d7b3",
      "metadata": {
        "id": "5f86d7b3"
      },
      "source": [
        "### Loading Existing Models and Training New Models"
      ]
    },
    {
      "cell_type": "code",
      "execution_count": null,
      "id": "4453726e",
      "metadata": {
        "colab": {
          "base_uri": "https://localhost:8080/"
        },
        "id": "4453726e",
        "outputId": "d9697e22-a2fb-4481-fa49-d1f89aa757b2"
      },
      "outputs": [
        {
          "name": "stdout",
          "output_type": "stream",
          "text": [
            "Attempting to load existing models from: /content/drive/MyDrive/trained_models\n",
            "Loading CatBoost model from /content/drive/MyDrive/trained_models/catboost_model.pkl...\n",
            "CatBoost model loaded successfully.\n",
            "\n",
            "Loading AdaBoost model from /content/drive/MyDrive/trained_models/adaboost_model.pkl...\n",
            "AdaBoost model loaded successfully.\n",
            "\n",
            "Loading CNN model from /content/drive/MyDrive/trained_models/cnn_model.h5...\n"
          ]
        },
        {
          "name": "stderr",
          "output_type": "stream",
          "text": [
            "WARNING:absl:Compiled the loaded model, but the compiled metrics have yet to be built. `model.compile_metrics` will be empty until you train or evaluate the model.\n"
          ]
        },
        {
          "name": "stdout",
          "output_type": "stream",
          "text": [
            "CNN model loaded successfully.\n",
            "\n",
            "Loading Transfer Learning (VGG16) model from /content/drive/MyDrive/trained_models/transfer_learning_model.h5...\n"
          ]
        },
        {
          "name": "stderr",
          "output_type": "stream",
          "text": [
            "WARNING:absl:Compiled the loaded model, but the compiled metrics have yet to be built. `model.compile_metrics` will be empty until you train or evaluate the model.\n"
          ]
        },
        {
          "name": "stdout",
          "output_type": "stream",
          "text": [
            "Transfer Learning (VGG16) model loaded successfully.\n",
            "\n",
            "--- Finished Attempting to Load Existing Models ---\n",
            "\n",
            "--- Starting Training of New Models ---\n",
            "\n",
            "Training ResNet50V2...\n",
            "\n",
            "Training EfficientNetB0...\n"
          ]
        }
      ],
      "source": [
        "# Define the path to your existing trained models\n",
        "EXISTING_MODELS_DIR = '/content/drive/MyDrive/trained_models' # Update this path if needed\n",
        "print(f\"Attempting to load existing models from: {EXISTING_MODELS_DIR}\")\n",
        "\n",
        "# Define filenames for existing models\n",
        "catboost_filename_existing = 'catboost_model.pkl'\n",
        "adaboost_filename_existing = 'adaboost_model.pkl'\n",
        "cnn_filename_existing = 'cnn_model.h5'\n",
        "tl_filename_existing = 'transfer_learning_model.h5' # Assuming VGG16 is saved as tl_model.h5\n",
        "\n",
        "# Define full paths for loading existing models\n",
        "catboost_path_existing = os.path.join(EXISTING_MODELS_DIR, catboost_filename_existing)\n",
        "adaboost_path_existing = os.path.join(EXISTING_MODELS_DIR, adaboost_filename_existing)\n",
        "cnn_path_existing = os.path.join(EXISTING_MODELS_DIR, cnn_filename_existing)\n",
        "tl_path_existing = os.path.join(EXISTING_MODELS_DIR, tl_filename_existing)\n",
        "\n",
        "\n",
        "# --- Load Existing Models ---\n",
        "\n",
        "# Load CatBoost model\n",
        "try:\n",
        "    print(f\"Loading CatBoost model from {catboost_path_existing}...\")\n",
        "    cb_model = joblib.load(catboost_path_existing)\n",
        "    print(\"CatBoost model loaded successfully.\")\n",
        "except FileNotFoundError:\n",
        "    print(f\"CatBoost model not found at {catboost_path_existing}. Skipping loading.\")\n",
        "    cb_model = None # Set to None if loading fails\n",
        "except Exception as e:\n",
        "    print(f\"Error loading CatBoost model from {catboost_path_existing}: {e}. Skipping loading.\")\n",
        "    cb_model = None\n",
        "\n",
        "# Load AdaBoost model\n",
        "try:\n",
        "    print(f\"\\nLoading AdaBoost model from {adaboost_path_existing}...\")\n",
        "    ab_model = joblib.load(adaboost_path_existing)\n",
        "    print(\"AdaBoost model loaded successfully.\")\n",
        "except FileNotFoundError:\n",
        "    print(f\"AdaBoost model not found at {adaboost_path_existing}. Skipping loading.\")\n",
        "    ab_model = None # Set to None if loading fails\n",
        "except Exception as e:\n",
        "    print(f\"Error loading AdaBoost model from {adaboost_path_existing}: {e}. Skipping loading.\")\n",
        "    ab_model = None\n",
        "\n",
        "# Load CNN model\n",
        "try:\n",
        "    print(f\"\\nLoading CNN model from {cnn_path_existing}...\")\n",
        "    from tensorflow.keras.models import load_model\n",
        "    cnn_model = load_model(cnn_path_existing)\n",
        "    print(\"CNN model loaded successfully.\")\n",
        "except FileNotFoundError:\n",
        "    print(f\"CNN model not found at {cnn_path_existing}. Skipping loading.\")\n",
        "    cnn_model = None # Set to None if loading fails\n",
        "except Exception as e:\n",
        "    print(f\"Error loading CNN model from {cnn_path_existing}: {e}. Skipping loading.\")\n",
        "    cnn_model = None\n",
        "\n",
        "\n",
        "# Load Transfer Learning (VGG16) model\n",
        "try:\n",
        "    print(f\"\\nLoading Transfer Learning (VGG16) model from {tl_path_existing}...\")\n",
        "    from tensorflow.keras.models import load_model\n",
        "    tl_model = load_model(tl_path_existing)\n",
        "    print(\"Transfer Learning (VGG16) model loaded successfully.\")\n",
        "except FileNotFoundError:\n",
        "    print(f\"Transfer Learning (VGG16) model not found at {tl_path_existing}. Skipping loading.\")\n",
        "    tl_model = None # Set to None if loading fails\n",
        "except Exception as e:\n",
        "    print(f\"Error loading Transfer Learning (VGG16) model from {tl_path_existing}: {e}. Skipping loading.\")\n",
        "    tl_model = None\n",
        "\n",
        "print(\"\\n--- Finished Attempting to Load Existing Models ---\")\n",
        "\n",
        "# --- Train New Models (ResNet50V2 and EfficientNetB0) ---\n",
        "print(\"\\n--- Starting Training of New Models ---\")\n",
        "\n",
        "# Ensure build_resnet50v2 and build_efficientnet functions are defined in previous cells\n",
        "# Ensure X_train_vgg, y_train, class_weights_dict, and IMAGE_SIZE are defined\n",
        "\n",
        "# Train ResNet50V2 from scratch\n",
        "print(\"\\nTraining ResNet50V2...\")\n",
        "# Ensure build_resnet50v2 is defined and compile/fit are called\n",
        "# Use the correct input shape (IMAGE_SIZE)\n",
        "def build_resnet50v2_model(input_shape=(128, 128, 3)):\n",
        "    from keras.applications import ResNet50V2\n",
        "    from keras.models import Model\n",
        "    from keras.layers import Dense, Flatten, Input\n",
        "\n",
        "    base_model = ResNet50V2(weights='imagenet', include_top=False, input_tensor=Input(shape=input_shape))\n",
        "    base_model.trainable = False\n",
        "\n",
        "    x = Flatten()(base_model.output)\n",
        "    x = Dense(128, activation='relu')(x)\n",
        "    output = Dense(1, activation='sigmoid')(x)\n",
        "\n",
        "    model = Model(inputs=base_model.input, outputs=output)\n",
        "    return model\n",
        "\n",
        "\n",
        "    print(\"ResNet50V2 training complete\")\n",
        "    return model\n",
        "\n",
        "\n",
        "\n",
        "\n",
        "# Train EfficientNetB0 from scratch\n",
        "print(\"\\nTraining EfficientNetB0...\")\n",
        "# Ensure build_efficientnet is defined and compile/fit are called\n",
        "# Use the correct input shape (IMAGE_SIZE)\n",
        "def build_efficientnet_model(input_shape=(128, 128, 3)):\n",
        "    from keras.applications import EfficientNetB0\n",
        "    from keras.models import Model\n",
        "    from keras.layers import Dense, Flatten, Input\n",
        "\n",
        "    base_model = EfficientNetB0(weights='imagenet', include_top=False, input_tensor=Input(shape=input_shape))\n",
        "    base_model.trainable = False\n",
        "\n",
        "    x = Flatten()(base_model.output)\n",
        "    x = Dense(128, activation='relu')(x)\n",
        "    output = Dense(1, activation='sigmoid')(x)\n",
        "\n",
        "    model = Model(inputs=base_model.input, outputs=output)\n",
        "    return model\n"
      ]
    },
    {
      "cell_type": "code",
      "execution_count": null,
      "id": "D4iFoAlkA7Tc",
      "metadata": {
        "id": "D4iFoAlkA7Tc"
      },
      "outputs": [],
      "source": [
        "def train_efficientnet_model(model, X_train_vgg, y_train, class_weights):\n",
        "    from keras.optimizers import Adam\n",
        "    from keras.callbacks import EarlyStopping\n",
        "\n",
        "    model.compile(optimizer=Adam(learning_rate=1e-4),\n",
        "                  loss='binary_crossentropy',\n",
        "                  metrics=['accuracy'])\n",
        "\n",
        "    model.fit(X_train, y_train,\n",
        "              batch_size=32,\n",
        "              epochs=10,\n",
        "              class_weights=weights,\n",
        "              validation_split=0.15,\n",
        "              callbacks=[EarlyStopping(patience=3, restore_best_weights=True)],\n",
        "              verbose=1)\n",
        "\n",
        "    return model"
      ]
    },
    {
      "cell_type": "code",
      "execution_count": null,
      "id": "gNookLtTBAfu",
      "metadata": {
        "id": "gNookLtTBAfu"
      },
      "outputs": [],
      "source": [
        "def train_efficientnet_model(model, X_train_vgg, y_train, class_weights):\n",
        "    from keras.optimizers import Adam\n",
        "    from keras.callbacks import EarlyStopping\n",
        "\n",
        "    model.compile(optimizer=Adam(learning_rate=1e-4),\n",
        "                  loss='binary_crossentropy',\n",
        "                  metrics=['accuracy'])\n",
        "\n",
        "    model.fit(X_train_vgg, y_train,\n",
        "              batch_size=32,\n",
        "              epochs=10,\n",
        "              class_weights=weights,\n",
        "              validation_split=0.15,\n",
        "              callbacks=[EarlyStopping(patience=3, restore_best_weights=True)],\n",
        "              verbose=1)\n",
        "\n",
        "    return model"
      ]
    },
    {
      "cell_type": "code",
      "execution_count": null,
      "id": "un8rVQwpA8zs",
      "metadata": {
        "colab": {
          "base_uri": "https://localhost:8080/"
        },
        "id": "un8rVQwpA8zs",
        "outputId": "c8614ee3-cf7a-424c-b706-a0ce0c0cc123"
      },
      "outputs": [
        {
          "name": "stdout",
          "output_type": "stream",
          "text": [
            "Collecting catboost\n",
            "  Downloading catboost-1.2.8-cp311-cp311-manylinux2014_x86_64.whl.metadata (1.2 kB)\n",
            "Requirement already satisfied: graphviz in /usr/local/lib/python3.11/dist-packages (from catboost) (0.20.3)\n",
            "Requirement already satisfied: matplotlib in /usr/local/lib/python3.11/dist-packages (from catboost) (3.10.0)\n",
            "Requirement already satisfied: numpy<3.0,>=1.16.0 in /usr/local/lib/python3.11/dist-packages (from catboost) (1.26.4)\n",
            "Requirement already satisfied: pandas>=0.24 in /usr/local/lib/python3.11/dist-packages (from catboost) (2.2.2)\n",
            "Requirement already satisfied: scipy in /usr/local/lib/python3.11/dist-packages (from catboost) (1.13.1)\n",
            "Requirement already satisfied: plotly in /usr/local/lib/python3.11/dist-packages (from catboost) (5.24.1)\n",
            "Requirement already satisfied: six in /usr/local/lib/python3.11/dist-packages (from catboost) (1.17.0)\n",
            "Requirement already satisfied: python-dateutil>=2.8.2 in /usr/local/lib/python3.11/dist-packages (from pandas>=0.24->catboost) (2.8.2)\n",
            "Requirement already satisfied: pytz>=2020.1 in /usr/local/lib/python3.11/dist-packages (from pandas>=0.24->catboost) (2025.1)\n",
            "Requirement already satisfied: tzdata>=2022.7 in /usr/local/lib/python3.11/dist-packages (from pandas>=0.24->catboost) (2025.1)\n",
            "Requirement already satisfied: contourpy>=1.0.1 in /usr/local/lib/python3.11/dist-packages (from matplotlib->catboost) (1.3.1)\n",
            "Requirement already satisfied: cycler>=0.10 in /usr/local/lib/python3.11/dist-packages (from matplotlib->catboost) (0.12.1)\n",
            "Requirement already satisfied: fonttools>=4.22.0 in /usr/local/lib/python3.11/dist-packages (from matplotlib->catboost) (4.56.0)\n",
            "Requirement already satisfied: kiwisolver>=1.3.1 in /usr/local/lib/python3.11/dist-packages (from matplotlib->catboost) (1.4.8)\n",
            "Requirement already satisfied: packaging>=20.0 in /usr/local/lib/python3.11/dist-packages (from matplotlib->catboost) (24.2)\n",
            "Requirement already satisfied: pillow>=8 in /usr/local/lib/python3.11/dist-packages (from matplotlib->catboost) (11.1.0)\n",
            "Requirement already satisfied: pyparsing>=2.3.1 in /usr/local/lib/python3.11/dist-packages (from matplotlib->catboost) (3.2.1)\n",
            "Requirement already satisfied: tenacity>=6.2.0 in /usr/local/lib/python3.11/dist-packages (from plotly->catboost) (9.0.0)\n",
            "Downloading catboost-1.2.8-cp311-cp311-manylinux2014_x86_64.whl (99.2 MB)\n",
            "\u001b[2K   \u001b[90m━━━━━━━━━━━━━━━━━━━━━━━━━━━━━━━━━━━━━━━━\u001b[0m \u001b[32m99.2/99.2 MB\u001b[0m \u001b[31m6.4 MB/s\u001b[0m eta \u001b[36m0:00:00\u001b[0m\n",
            "\u001b[?25hInstalling collected packages: catboost\n",
            "Successfully installed catboost-1.2.8\n"
          ]
        }
      ],
      "source": [
        "pip install catboost"
      ]
    },
    {
      "cell_type": "code",
      "execution_count": null,
      "id": "ff66bbda",
      "metadata": {
        "id": "ff66bbda"
      },
      "outputs": [],
      "source": [
        "from sklearn.ensemble import AdaBoostClassifier\n",
        "\n",
        "def train_adaboost(X_train_flat, y_train):\n",
        "    print(\"📚 Training AdaBoost...\")\n",
        "    model = AdaBoostClassifier(n_estimators=200)\n",
        "    model.fit(X_train_flat, y_train)\n",
        "    print(\"✅ AdaBoost trained.\")\n",
        "    return model\n",
        "\n",
        "\n",
        "from catboost import CatBoostClassifier\n",
        "\n",
        "def train_catboost(X_train_flat, y_train, X_test_flat, y_test, class_weights_dict):\n",
        "    print(\"📚 Training CatBoost...\")\n",
        "\n",
        "    # Compute weights for classes in the format CatBoost expects\n",
        "    classes = list(class_weights_dict.keys())\n",
        "    weights = list(class_weights_dict.values())\n",
        "\n",
        "    model = CatBoostClassifier(\n",
        "        iterations=300,\n",
        "        depth=6,\n",
        "        learning_rate=0.05,\n",
        "        loss_function='Logloss',\n",
        "        class_weights=weights,\n",
        "        verbose=0\n",
        "    )\n",
        "    model.fit(X_train_flat, y_train, eval_set=(X_test_flat, y_test), verbose=False)\n",
        "    print(\"✅ CatBoost trained.\")\n",
        "    return model\n",
        "\n",
        "from keras.models import Sequential\n",
        "from keras.layers import Conv2D, MaxPooling2D, Flatten, Dense, Dropout\n",
        "from keras.optimizers import Adam\n",
        "\n",
        "def train_cnn(X_train_cnn, y_train, class_weights_dict, image_size):\n",
        "    print(\"📚 Training CNN...\")\n",
        "    input_shape = (*image_size, 1)\n",
        "\n",
        "    model = Sequential([\n",
        "        Conv2D(32, (3,3), activation='relu', input_shape=input_shape),\n",
        "        MaxPooling2D(2,2),\n",
        "        Conv2D(64, (3,3), activation='relu'),\n",
        "        MaxPooling2D(2,2),\n",
        "        Flatten(),\n",
        "        Dense(128, activation='relu'),\n",
        "        Dropout(0.4),\n",
        "        Dense(1, activation='sigmoid')\n",
        "    ])\n",
        "\n",
        "    model.compile(optimizer=Adam(0.005), loss='binary_crossentropy', metrics=['accuracy'])\n",
        "    model.fit(X_train_cnn, y_train, epochs=10, batch_size=32, class_weight=class_weights_dict, verbose=1)\n",
        "\n",
        "    print(\"✅ CNN trained.\")\n",
        "    return model\n",
        "\n",
        "\n",
        "from keras.applications.vgg16 import VGG16\n",
        "from keras.models import Model\n",
        "from keras.layers import Dense, GlobalAveragePooling2D, Dropout, Input\n",
        "\n",
        "def train_transfer_learning(X_train_vgg, y_train, class_weights_dict, image_size):\n",
        "    print(\"📚 Training VGG16 Transfer Learning...\")\n",
        "\n",
        "    base_model = VGG16(include_top=False, weights='imagenet', input_shape=(*image_size, 3))\n",
        "    base_model.trainable = False  # Freeze base layers\n",
        "\n",
        "    x = base_model.output\n",
        "    x = GlobalAveragePooling2D()(x)\n",
        "    x = Dropout(0.4)(x)\n",
        "    output = Dense(1, activation='sigmoid')(x)\n",
        "\n",
        "    model = Model(inputs=base_model.input, outputs=output)\n",
        "    model.compile(optimizer=Adam(learning_rate=0.005), loss='binary_crossentropy', metrics=['accuracy'])\n",
        "\n",
        "    model.fit(X_train_vgg, y_train, epochs=10, batch_size=32, class_weight=class_weights_dict, verbose=1)\n",
        "\n",
        "    print(\"✅ VGG16 Transfer Learning trained.\")\n",
        "    return model\n"
      ]
    },
    {
      "cell_type": "code",
      "execution_count": null,
      "id": "l7kafdJdD10k",
      "metadata": {
        "colab": {
          "background_save": true,
          "base_uri": "https://localhost:8080/"
        },
        "id": "l7kafdJdD10k",
        "outputId": "07ae9d66-884e-4be7-8085-64ff35436982"
      },
      "outputs": [
        {
          "name": "stdout",
          "output_type": "stream",
          "text": [
            "\n",
            "🔁 Retraining Models...\n",
            "📚 Training AdaBoost...\n",
            "✅ AdaBoost trained.\n",
            "📚 Training CatBoost...\n",
            "✅ CatBoost trained.\n",
            "📚 Training CNN...\n"
          ]
        },
        {
          "name": "stderr",
          "output_type": "stream",
          "text": [
            "/usr/local/lib/python3.11/dist-packages/keras/src/layers/convolutional/base_conv.py:107: UserWarning: Do not pass an `input_shape`/`input_dim` argument to a layer. When using Sequential models, prefer using an `Input(shape)` object as the first layer in the model instead.\n",
            "  super().__init__(activity_regularizer=activity_regularizer, **kwargs)\n"
          ]
        },
        {
          "name": "stdout",
          "output_type": "stream",
          "text": [
            "Epoch 1/10\n",
            "\u001b[1m110/110\u001b[0m \u001b[32m━━━━━━━━━━━━━━━━━━━━\u001b[0m\u001b[37m\u001b[0m \u001b[1m10s\u001b[0m 30ms/step - accuracy: 0.7245 - loss: 0.7731\n",
            "Epoch 2/10\n",
            "\u001b[1m110/110\u001b[0m \u001b[32m━━━━━━━━━━━━━━━━━━━━\u001b[0m\u001b[37m\u001b[0m \u001b[1m3s\u001b[0m 13ms/step - accuracy: 0.9018 - loss: 0.2789\n",
            "Epoch 3/10\n",
            "\u001b[1m110/110\u001b[0m \u001b[32m━━━━━━━━━━━━━━━━━━━━\u001b[0m\u001b[37m\u001b[0m \u001b[1m1s\u001b[0m 13ms/step - accuracy: 0.9276 - loss: 0.2148\n",
            "Epoch 4/10\n",
            "\u001b[1m110/110\u001b[0m \u001b[32m━━━━━━━━━━━━━━━━━━━━\u001b[0m\u001b[37m\u001b[0m \u001b[1m1s\u001b[0m 13ms/step - accuracy: 0.9459 - loss: 0.1761\n",
            "Epoch 5/10\n",
            "\u001b[1m110/110\u001b[0m \u001b[32m━━━━━━━━━━━━━━━━━━━━\u001b[0m\u001b[37m\u001b[0m \u001b[1m3s\u001b[0m 14ms/step - accuracy: 0.9519 - loss: 0.1260\n",
            "Epoch 6/10\n",
            "\u001b[1m110/110\u001b[0m \u001b[32m━━━━━━━━━━━━━━━━━━━━\u001b[0m\u001b[37m\u001b[0m \u001b[1m2s\u001b[0m 14ms/step - accuracy: 0.9676 - loss: 0.0924\n",
            "Epoch 7/10\n",
            "\u001b[1m110/110\u001b[0m \u001b[32m━━━━━━━━━━━━━━━━━━━━\u001b[0m\u001b[37m\u001b[0m \u001b[1m2s\u001b[0m 13ms/step - accuracy: 0.9830 - loss: 0.0535\n",
            "Epoch 8/10\n",
            "\u001b[1m110/110\u001b[0m \u001b[32m━━━━━━━━━━━━━━━━━━━━\u001b[0m\u001b[37m\u001b[0m \u001b[1m2s\u001b[0m 13ms/step - accuracy: 0.9863 - loss: 0.0438\n",
            "Epoch 9/10\n",
            "\u001b[1m110/110\u001b[0m \u001b[32m━━━━━━━━━━━━━━━━━━━━\u001b[0m\u001b[37m\u001b[0m \u001b[1m3s\u001b[0m 13ms/step - accuracy: 0.9888 - loss: 0.0363\n",
            "Epoch 10/10\n",
            "\u001b[1m110/110\u001b[0m \u001b[32m━━━━━━━━━━━━━━━━━━━━\u001b[0m\u001b[37m\u001b[0m \u001b[1m1s\u001b[0m 13ms/step - accuracy: 0.9865 - loss: 0.0325\n",
            "✅ CNN trained.\n",
            "📚 Training VGG16 Transfer Learning...\n",
            "Downloading data from https://storage.googleapis.com/tensorflow/keras-applications/vgg16/vgg16_weights_tf_dim_ordering_tf_kernels_notop.h5\n",
            "\u001b[1m58889256/58889256\u001b[0m \u001b[32m━━━━━━━━━━━━━━━━━━━━\u001b[0m\u001b[37m\u001b[0m \u001b[1m0s\u001b[0m 0us/step\n",
            "Epoch 1/10\n",
            "\u001b[1m110/110\u001b[0m \u001b[32m━━━━━━━━━━━━━━━━━━━━\u001b[0m\u001b[37m\u001b[0m \u001b[1m17s\u001b[0m 94ms/step - accuracy: 0.6955 - loss: 0.5715\n",
            "Epoch 2/10\n",
            "\u001b[1m110/110\u001b[0m \u001b[32m━━━━━━━━━━━━━━━━━━━━\u001b[0m\u001b[37m\u001b[0m \u001b[1m11s\u001b[0m 59ms/step - accuracy: 0.8848 - loss: 0.3158\n",
            "Epoch 3/10\n",
            "\u001b[1m110/110\u001b[0m \u001b[32m━━━━━━━━━━━━━━━━━━━━\u001b[0m\u001b[37m\u001b[0m \u001b[1m10s\u001b[0m 59ms/step - accuracy: 0.9214 - loss: 0.2670\n",
            "Epoch 4/10\n",
            "\u001b[1m110/110\u001b[0m \u001b[32m━━━━━━━━━━━━━━━━━━━━\u001b[0m\u001b[37m\u001b[0m \u001b[1m10s\u001b[0m 59ms/step - accuracy: 0.9246 - loss: 0.2387\n",
            "Epoch 5/10\n",
            "\u001b[1m110/110\u001b[0m \u001b[32m━━━━━━━━━━━━━━━━━━━━\u001b[0m\u001b[37m\u001b[0m \u001b[1m10s\u001b[0m 58ms/step - accuracy: 0.9167 - loss: 0.2231\n",
            "Epoch 6/10\n",
            "\u001b[1m110/110\u001b[0m \u001b[32m━━━━━━━━━━━━━━━━━━━━\u001b[0m\u001b[37m\u001b[0m \u001b[1m10s\u001b[0m 58ms/step - accuracy: 0.9267 - loss: 0.2171\n",
            "Epoch 7/10\n",
            "\u001b[1m110/110\u001b[0m \u001b[32m━━━━━━━━━━━━━━━━━━━━\u001b[0m\u001b[37m\u001b[0m \u001b[1m10s\u001b[0m 58ms/step - accuracy: 0.9282 - loss: 0.2067\n",
            "Epoch 8/10\n",
            "\u001b[1m110/110\u001b[0m \u001b[32m━━━━━━━━━━━━━━━━━━━━\u001b[0m\u001b[37m\u001b[0m \u001b[1m6s\u001b[0m 58ms/step - accuracy: 0.9336 - loss: 0.2052\n",
            "Epoch 9/10\n",
            "\u001b[1m110/110\u001b[0m \u001b[32m━━━━━━━━━━━━━━━━━━━━\u001b[0m\u001b[37m\u001b[0m \u001b[1m10s\u001b[0m 57ms/step - accuracy: 0.9306 - loss: 0.1999\n",
            "Epoch 10/10\n",
            "\u001b[1m110/110\u001b[0m \u001b[32m━━━━━━━━━━━━━━━━━━━━\u001b[0m\u001b[37m\u001b[0m \u001b[1m10s\u001b[0m 58ms/step - accuracy: 0.9322 - loss: 0.2032\n",
            "✅ VGG16 Transfer Learning trained.\n",
            "✅ All models retrained.\n"
          ]
        }
      ],
      "source": [
        "print(\"\\n🔁 Retraining Models...\")\n",
        "ab_model = train_adaboost(X_train_flat, y_train)\n",
        "cb_model = train_catboost(X_train_flat, y_train, X_test_flat, y_test, class_weights_dict)\n",
        "cnn_model = train_cnn(X_train_cnn, y_train, class_weights_dict, IMAGE_SIZE)\n",
        "tl_model = train_transfer_learning(X_train_vgg, y_train, class_weights_dict, IMAGE_SIZE)\n",
        "print(\"✅ All models retrained.\")\n"
      ]
    },
    {
      "cell_type": "markdown",
      "id": "a6e1d14b",
      "metadata": {
        "id": "a6e1d14b"
      },
      "source": [
        "### Evaluating All Models (Loaded and Newly Trained)"
      ]
    },
    {
      "cell_type": "code",
      "execution_count": null,
      "id": "0202f692",
      "metadata": {
        "colab": {
          "base_uri": "https://localhost:8080/",
          "height": 251
        },
        "id": "0202f692",
        "outputId": "e6edf8ef-70f6-41d1-fc07-2da660ff3170"
      },
      "outputs": [
        {
          "name": "stdout",
          "output_type": "stream",
          "text": [
            "\n",
            "--- Evaluating All Models ---\n"
          ]
        },
        {
          "ename": "NameError",
          "evalue": "name 'evaluate_model' is not defined",
          "output_type": "error",
          "traceback": [
            "\u001b[0;31m---------------------------------------------------------------------------\u001b[0m",
            "\u001b[0;31mNameError\u001b[0m                                 Traceback (most recent call last)",
            "\u001b[0;32m<ipython-input-34-b1dfe6845457>\u001b[0m in \u001b[0;36m<cell line: 0>\u001b[0;34m()\u001b[0m\n\u001b[1;32m      7\u001b[0m \u001b[0;31m# Check if models were loaded successfully before evaluating\u001b[0m\u001b[0;34m\u001b[0m\u001b[0;34m\u001b[0m\u001b[0m\n\u001b[1;32m      8\u001b[0m \u001b[0;32mif\u001b[0m \u001b[0;34m'cb_model'\u001b[0m \u001b[0;32min\u001b[0m \u001b[0mglobals\u001b[0m\u001b[0;34m(\u001b[0m\u001b[0;34m)\u001b[0m \u001b[0;32mand\u001b[0m \u001b[0mcb_model\u001b[0m \u001b[0;32mis\u001b[0m \u001b[0;32mnot\u001b[0m \u001b[0;32mNone\u001b[0m\u001b[0;34m:\u001b[0m\u001b[0;34m\u001b[0m\u001b[0;34m\u001b[0m\u001b[0m\n\u001b[0;32m----> 9\u001b[0;31m     \u001b[0mevaluate_model\u001b[0m\u001b[0;34m(\u001b[0m\u001b[0mcb_model\u001b[0m\u001b[0;34m,\u001b[0m \u001b[0mX_test_flat\u001b[0m\u001b[0;34m,\u001b[0m \u001b[0my_test\u001b[0m\u001b[0;34m,\u001b[0m \u001b[0;34m\"CatBoost\"\u001b[0m\u001b[0;34m,\u001b[0m \u001b[0mis_deep_learning\u001b[0m\u001b[0;34m=\u001b[0m\u001b[0;32mFalse\u001b[0m\u001b[0;34m)\u001b[0m\u001b[0;34m\u001b[0m\u001b[0;34m\u001b[0m\u001b[0m\n\u001b[0m\u001b[1;32m     10\u001b[0m \u001b[0;32melse\u001b[0m\u001b[0;34m:\u001b[0m\u001b[0;34m\u001b[0m\u001b[0;34m\u001b[0m\u001b[0m\n\u001b[1;32m     11\u001b[0m     \u001b[0mprint\u001b[0m\u001b[0;34m(\u001b[0m\u001b[0;34m\"\\nSkipping CatBoost evaluation as the model was not loaded.\"\u001b[0m\u001b[0;34m)\u001b[0m\u001b[0;34m\u001b[0m\u001b[0;34m\u001b[0m\u001b[0m\n",
            "\u001b[0;31mNameError\u001b[0m: name 'evaluate_model' is not defined"
          ]
        }
      ],
      "source": [
        "# --- Model Evaluation ---\n",
        "# Ensure evaluate_model function is defined in a previous cell\n",
        "\n",
        "print(\"\\n--- Evaluating All Models ---\")\n",
        "\n",
        "# Evaluate each trained or loaded model using the appropriate test data shape\n",
        "# Check if models were loaded successfully before evaluating\n",
        "if 'cb_model' in globals() and cb_model is not None:\n",
        "    evaluate_model(cb_model, X_test_flat, y_test, \"CatBoost\", is_deep_learning=False)\n",
        "else:\n",
        "    print(\"\\nSkipping CatBoost evaluation as the model was not loaded.\")\n",
        "\n",
        "if 'ab_model' in globals() and ab_model is not None:\n",
        "    evaluate_model(ab_model, X_test_flat, y_test, \"AdaBoost\", is_deep_learning=False)\n",
        "else:\n",
        "    print(\"\\nSkipping AdaBoost evaluation as the model was not loaded.\")\n",
        "\n",
        "if 'cnn_model' in globals() and cnn_model is not None:\n",
        "    evaluate_model(cnn_model, X_test_cnn, y_test, \"CNN\", is_deep_learning=True)\n",
        "else:\n",
        "    print(\"\\nSkipping CNN evaluation as the model was not loaded.\")\n",
        "\n",
        "if 'tl_model' in globals() and tl_model is not None:\n",
        "    evaluate_model(tl_model, X_test_vgg, y_test, \"Transfer Learning (VGG16)\", is_deep_learning=True)\n",
        "else:\n",
        "    print(\"\\nSkipping Transfer Learning (VGG16) evaluation as the model was not loaded.\")\n",
        "\n",
        "# Evaluate the newly trained models (they should always exist after the previous cell)\n",
        "if 'resnet_model' in globals() and resnet_model is not None:\n",
        "    evaluate_model(resnet_model, X_test_vgg, y_test, \"ResNet50V2\", is_deep_learning=True)\n",
        "else:\n",
        "     print(\"\\nSkipping ResNet50V2 evaluation as the model was not trained.\")\n",
        "\n",
        "if 'efficientnet_model' in globals() and efficientnet_model is not None:\n",
        "    evaluate_model(efficientnet_model, X_test_vgg, y_test, \"EfficientNetB0\", is_deep_learning=True)\n",
        "else:\n",
        "     print(\"\\nSkipping EfficientNetB0 evaluation as the model was not trained.\")\n",
        "\n",
        "\n",
        "print(\"\\n--- Individual Model Evaluation Complete ---\")"
      ]
    },
    {
      "cell_type": "markdown",
      "id": "17746b2d",
      "metadata": {
        "id": "17746b2d"
      },
      "source": [
        "### Weighted Average Ensemble Evaluation (Including All Available Models)"
      ]
    },
    {
      "cell_type": "code",
      "execution_count": null,
      "id": "9b5304c4",
      "metadata": {
        "id": "9b5304c4"
      },
      "outputs": [],
      "source": [
        "# --- Weighted Average Ensemble Evaluation ---\n",
        "# Ensure get_model_probabilities and evaluation logic for ensemble are defined in previous cells\n",
        "\n",
        "print(\"\\n--- Evaluating Weighted Average Ensemble ---\")\n",
        "\n",
        "# Get probabilities from each AVAILABLE model on the test set using the unified function\n",
        "# We only include models that were successfully loaded or trained\n",
        "available_models = []\n",
        "available_model_names = []\n",
        "# Ensure X_test_flat, X_test_cnn, X_test_vgg, y_test, IMAGE_SIZE are defined\n",
        "\n",
        "if 'cb_model' in globals() and cb_model is not None:\n",
        "    available_models.append(cb_model)\n",
        "    available_model_names.append(\"CatBoost\")\n",
        "if 'ab_model' in globals() and ab_model is not None:\n",
        "    available_models.append(ab_model)\n",
        "    available_model_names.append(\"AdaBoost\")\n",
        "if 'cnn_model' in globals() and cnn_model is not None:\n",
        "    available_models.append(cnn_model)\n",
        "    available_model_names.append(\"CNN\")\n",
        "if 'tl_model' in globals() and tl_model is not None:\n",
        "    available_models.append(tl_model)\n",
        "    available_model_names.append(\"Transfer Learning (VGG16)\")\n",
        "if 'resnet_model' in globals() and resnet_model is not None:\n",
        "    available_models.append(resnet_model)\n",
        "    available_model_names.append(\"ResNet50V2\")\n",
        "if 'efficientnet_model' in globals() and efficientnet_model is not None:\n",
        "    available_models.append(efficientnet_model)\n",
        "    available_model_names.append(\"EfficientNetB0\")\n",
        "\n",
        "if not available_models:\n",
        "    print(\"No models available to form an ensemble. Skipping ensemble evaluation.\")\n",
        "else:\n",
        "    probs_list = []\n",
        "    for model, name in zip(available_models, available_model_names):\n",
        "        probs = get_model_probabilities(model, X_test_flat, X_test_cnn, X_test_vgg, name, IMAGE_SIZE)\n",
        "        if probs is not None and probs.shape[0] == X_test_flat.shape[0] and probs.shape[1] == 2:\n",
        "            probs_list.append(probs)\n",
        "        else:\n",
        "            print(f\"Warning: Could not get valid probabilities for {name}. Excluding from ensemble.\")\n",
        "\n",
        "\n",
        "    if not probs_list:\n",
        "        print(\"No valid model probabilities available to form the ensemble after filtering. Skipping ensemble evaluation.\")\n",
        "    else:\n",
        "        # Define weights for the AVAILABLE models\n",
        "        # You might want to adjust these weights based on the performance of the available models\n",
        "        # For simplicity, let's use equal weights for now or define a default set and filter\n",
        "        # Let's define a default set of weights and filter based on available models\n",
        "        default_weights = {\n",
        "            \"CatBoost\": 0.15,\n",
        "            \"AdaBoost\": 0.15,\n",
        "            \"CNN\": 0.2,\n",
        "            \"Transfer Learning (VGG16)\": 0.2,\n",
        "            \"ResNet50V2\": 0.15,\n",
        "            \"EfficientNetB0\": 0.15\n",
        "        }\n",
        "\n",
        "        # Filter weights based on available models\n",
        "        current_weights = [default_weights[name] for name in available_model_names if name in default_weights]\n",
        "\n",
        "        if len(current_weights) != len(probs_list):\n",
        "             print(\"Warning: Mismatch between number of available models and filtered weights. Using equal weights.\")\n",
        "             current_weights = [1.0 / len(probs_list)] * len(probs_list)\n",
        "\n",
        "\n",
        "        ensemble_weights = np.array(current_weights) / np.sum(current_weights) # Normalize weights\n",
        "\n",
        "        print(\"Ensemble weights for available models:\", list(zip(available_model_names, ensemble_weights)))\n",
        "\n",
        "        # Combine probabilities using weighted average\n",
        "        final_probs = np.zeros_like(probs_list[0])\n",
        "        for i, probs in enumerate(probs_list):\n",
        "            final_probs += ensemble_weights[i] * probs\n",
        "\n",
        "        # Get final predictions by taking the class with the highest weighted probability\n",
        "        ensemble_preds_weighted = np.argmax(final_probs, axis=1)\n",
        "\n",
        "        # The number of samples used for ensemble prediction is the number of samples in the valid probability arrays\n",
        "        n_ensemble_samples = probs_list[0].shape[0]\n",
        "        y_test_ensemble = y_test[:n_ensemble_samples] # Truncate y_test to match\n",
        "\n",
        "        # --- Evaluate the Weighted Average Ensemble ---\n",
        "        print(\"\\n--- Evaluating Weighted Average Ensemble ---\")\n",
        "        print(\"Ensemble Accuracy:\", accuracy_score(y_test_ensemble, ensemble_preds_weighted))\n",
        "        print(\"\\nClassification Report:\")\n",
        "        print(classification_report(y_test_ensemble, ensemble_preds_weighted, target_names=[\"No Tumor\", \"Tumor\"]))\n",
        "        cm_ensemble = confusion_matrix(y_test_ensemble, ensemble_preds_weighted)\n",
        "        print(\"\\nConfusion Matrix:\")\n",
        "        print(cm_ensemble)\n",
        "\n",
        "        # Plot Confusion Matrix\n",
        "        plt.figure(figsize=(6, 4))\n",
        "        sns.heatmap(cm_ensemble, annot=True, fmt='d', cmap='Blues', xticklabels=[\"No Tumor\", \"Tumor\"], yticklabels=[\"No Tumor\", \"Tumor\"])\n",
        "        plt.xlabel(\"Predicted\")\n",
        "        plt.ylabel(\"True\")\n",
        "        plt.title(\"Confusion Matrix - Weighted Average Ensemble\")\n",
        "        plt.show()\n",
        "\n",
        "        try:\n",
        "            # Calculate AUC using the probability of the positive class (column 1)\n",
        "            auc_ensemble = roc_auc_score(y_test_ensemble, final_probs[:, 1])\n",
        "            print(f\"Ensemble AUC: {auc_ensemble:.4f}\")\n",
        "        except Exception as e:\n",
        "            print(f\"Could not calculate Ensemble AUC: {e}\")\n",
        "\n",
        "print(\"\\n--- Weighted Average Ensemble Evaluation Complete ---\")"
      ]
    },
    {
      "cell_type": "markdown",
      "id": "a893a1b9",
      "metadata": {
        "id": "a893a1b9"
      },
      "source": [
        "### Saving All Models (Loaded and Newly Trained) and Metadata"
      ]
    },
    {
      "cell_type": "code",
      "execution_count": null,
      "id": "f99dd4cb",
      "metadata": {
        "id": "f99dd4cb"
      },
      "outputs": [],
      "source": [
        "# --- Model Saving ---\n",
        "print(\"\\n--- Saving All Models and Metadata ---\")\n",
        "\n",
        "# Define the directory to save models and metadata within your Google Drive\n",
        "# This should be the same directory defined at the beginning of the script\n",
        "# RETRAINED_MODELS_DIR = os.path.join(DATA_DIR, 'retrained_models_v2')\n",
        "# Path(RETRAINED_MODELS_DIR).mkdir(parents=True, exist_ok=True) # Ensure directory exists\n",
        "\n",
        "# Save CatBoost model if it exists\n",
        "if 'cb_model' in globals() and cb_model is not None:\n",
        "    catboost_model_path_save = os.path.join(RETRAINED_MODELS_DIR, catboost_filename) # Use the filename defined earlier\n",
        "    joblib.dump(cb_model, catboost_model_path_save)\n",
        "    print(f\"Saved CatBoost model to {catboost_model_path_save}\")\n",
        "else:\n",
        "    print(\"CatBoost model not found. Skipping save.\")\n",
        "\n",
        "# Save AdaBoost model if it exists\n",
        "if 'ab_model' in globals() and ab_model is not None:\n",
        "    adaboost_model_path_save = os.path.join(RETRAINED_MODELS_DIR, adaboost_filename) # Use the filename defined earlier\n",
        "    joblib.dump(ab_model, adaboost_model_path_save)\n",
        "    print(f\"Saved AdaBoost model to {adaboost_model_path_save}\")\n",
        "else:\n",
        "    print(\"AdaBoost model not found. Skipping save.\")\n",
        "\n",
        "# Save CNN model if it exists\n",
        "if 'cnn_model' in globals() and cnn_model is not None:\n",
        "    cnn_model_path_save = os.path.join(RETRAINED_MODELS_DIR, cnn_filename) # Use the filename defined earlier\n",
        "    cnn_model.save(cnn_model_path_save)\n",
        "    print(f\"Saved CNN model to {cnn_model_path_save}\")\n",
        "else:\n",
        "     print(\"CNN model not found. Skipping save.\")\n",
        "\n",
        "# Save Transfer Learning model if it exists\n",
        "if 'tl_model' in globals() and tl_model is not None:\n",
        "    tl_model_path_save = os.path.join(RETRAINED_MODELS_DIR, tl_filename) # Use the filename defined earlier\n",
        "    tl_model.save(tl_model_path_save)\n",
        "    print(f\"Saved Transfer Learning model to {tl_model_path_save}\")\n",
        "else:\n",
        "    print(\"Transfer Learning model not found. Skipping save.\")\n",
        "\n",
        "# Save ResNet50V2 model if it exists (should exist after training)\n",
        "if 'resnet_model' in globals() and resnet_model is not None:\n",
        "    resnet_model_path_save = os.path.join(RETRAINED_MODELS_DIR, resnet_filename) # Use the filename defined earlier\n",
        "    resnet_model.save(resnet_model_path_save)\n",
        "    print(f\"Saved ResNet50V2 model to {resnet_model_path_save}\")\n",
        "else:\n",
        "    print(\"ResNet50V2 model not found. Skipping save.\")\n",
        "\n",
        "# Save EfficientNetB0 model if it exists (should exist after training)\n",
        "if 'efficientnet_model' in globals() and efficientnet_model is not None:\n",
        "    efficientnet_model_path_save = os.path.join(RETRAINED_MODELS_DIR, efficientnet_filename) # Use the filename defined earlier\n",
        "    efficientnet_model.save(efficientnet_model_path_save)\n",
        "    print(f\"Saved EfficientNetB0 model to {efficientnet_model_path_save}\")\n",
        "else:\n",
        "    print(\"EfficientNetB0 model not found. Skipping save.\")\n",
        "\n",
        "\n",
        "# --- Save Metadata ---\n",
        "# Metadata dictionary to store information needed later\n",
        "# Ensure model_metadata, ensemble_weights, class_weights_dict, IMAGE_SIZE, CLASSES, etc. are defined\n",
        "# Also include filenames for all potentially saved models\n",
        "if 'class_weights_dict' in globals() and 'IMAGE_SIZE' in globals() and 'CLASSES' in globals():\n",
        "    model_metadata = {\n",
        "        'image_size': IMAGE_SIZE, # (width, height)\n",
        "        'classes': CLASSES, # Original class mapping\n",
        "        'binary_label_map': {0: 'No Tumor', 1: 'Tumor'}, # Binary label interpretation\n",
        "        'model_filenames': { # Save filenames relative to the models directory\n",
        "            'catboost': catboost_filename if 'cb_model' in globals() and cb_model is not None else None,\n",
        "            'adaboost': adaboost_filename if 'ab_model' in globals() and ab_model is not None else None,\n",
        "            'cnn': cnn_filename if 'cnn_model' in globals() and cnn_model is not None else None,\n",
        "            'transfer_learning': tl_filename if 'tl_model' in globals() and tl_model is not None else None,\n",
        "            'resnet50v2': resnet_filename if 'resnet_model' in globals() and resnet_model is not None else None, # Add ResNet50V2 filename\n",
        "            'efficientnetb0': efficientnet_filename if 'efficientnet_model' in globals() and efficientnet_model is not None else None # Add EfficientNetB0 filename\n",
        "        },\n",
        "        'ensemble_weights': ensemble_weights if 'ensemble_weights' in globals() else None, # Weights for the weighted average ensemble (will be calculated if ensemble evaluation runs)\n",
        "        'class_weights_dict': class_weights_dict # Weights used during training\n",
        "        # Add any other necessary info here, e.g., normalization parameters if applicable\n",
        "    }\n",
        "\n",
        "    # Save the metadata dictionary using joblib\n",
        "    metadata_filename_save = 'model_metadata.joblib'\n",
        "    metadata_path_save = os.path.join(RETRAINED_MODELS_DIR, metadata_filename_save) # Using joblib for simplicity\n",
        "    joblib.dump(model_metadata, metadata_path_save)\n",
        "    print(f\"Saved model metadata to {metadata_path_save}\")\n",
        "else:\n",
        "    print(\"Required variables for metadata (class_weights_dict, IMAGE_SIZE, CLASSES) not found. Skipping metadata save.\")\n",
        "\n",
        "\n",
        "print(\"\\n--- Model Saving Complete ---\")"
      ]
    },
    {
      "cell_type": "markdown",
      "metadata": {
        "id": "2cf8c063"
      },
      "source": [
        "### 17. ROC Curve\n",
        "\n",
        "The Receiver Operating Characteristic (ROC) curve is a plot that shows the performance of a classification model at all classification thresholds. It plots the True Positive Rate (TPR) against the False Positive Rate (FPR) at various threshold settings. The Area Under the Curve (AUC) is a single scalar value that summarizes the performance across all possible thresholds; a higher AUC indicates a better model.\n",
        "\n",
        "We will calculate the ROC curve for each model and plot them together for comparison. This requires the predicted probabilities for the positive class (Tumor) from each model on the test set."
      ],
      "id": "2cf8c063"
    },
    {
      "cell_type": "code",
      "source": [],
      "metadata": {
        "id": "Ff3jEFMh09K_"
      },
      "id": "Ff3jEFMh09K_",
      "execution_count": null,
      "outputs": []
    },
    {
      "cell_type": "code",
      "metadata": {
        "id": "d1e8dc77"
      },
      "source": [
        "from sklearn.metrics import roc_curve, auc\n",
        "\n",
        "plt.figure(figsize=(10, 8))\n",
        "\n",
        "# Dictionary to store probabilities for available models\n",
        "available_probs = {}\n",
        "\n",
        "# Get probabilities for available models\n",
        "if 'cb_model' in globals() and cb_model is not None:\n",
        "    probs_cb = get_model_probabilities(cb_model, X_test_flat, X_test_cnn, X_test_vgg, \"CatBoost\", IMAGE_SIZE)\n",
        "    if probs_cb is not None and probs_cb.shape[0] > 0:\n",
        "        available_probs[\"CatBoost\"] = probs_cb[:, 1] # Get probability of the positive class\n",
        "        print(\"Got probabilities for CatBoost\")\n",
        "\n",
        "if 'ab_model' in globals() and ab_model is not None:\n",
        "    probs_ab = get_model_probabilities(ab_model, X_test_flat, X_test_cnn, X_test_vgg, \"AdaBoost\", IMAGE_SIZE)\n",
        "    if probs_ab is not None and probs_ab.shape[0] > 0:\n",
        "        available_probs[\"AdaBoost\"] = probs_ab[:, 1] # Get probability of the positive class\n",
        "        print(\"Got probabilities for AdaBoost\")\n",
        "\n",
        "if 'cnn_model' in globals() and cnn_model is not None:\n",
        "    probs_cnn = get_model_probabilities(cnn_model, X_test_flat, X_test_cnn, X_test_vgg, \"CNN\", IMAGE_SIZE)\n",
        "    if probs_cnn is not None and probs_cnn.shape[0] > 0:\n",
        "        available_probs[\"CNN\"] = probs_cnn[:, 1] # Get probability of the positive class\n",
        "        print(\"Got probabilities for CNN\")\n",
        "\n",
        "if 'tl_model' in globals() and tl_model is not None:\n",
        "    probs_tl = get_model_probabilities(tl_model, X_test_flat, X_test_cnn, X_test_vgg, \"Transfer Learning (VGG16)\", IMAGE_SIZE)\n",
        "    if probs_tl is not None and probs_tl.shape[0] > 0:\n",
        "        available_probs[\"Transfer Learning (VGG16)\"] = probs_tl[:, 1] # Get probability of the positive class\n",
        "        print(\"Got probabilities for Transfer Learning (VGG16)\")\n",
        "\n",
        "if 'resnet_model' in globals() and resnet_model is not None:\n",
        "    probs_resnet = get_model_probabilities(resnet_model, X_test_flat, X_test_cnn, X_test_vgg, \"ResNet50V2\", IMAGE_SIZE)\n",
        "    if probs_resnet is not None and probs_resnet.shape[0] > 0:\n",
        "        available_probs[\"ResNet50V2\"] = probs_resnet[:, 1] # Get probability of the positive class\n",
        "        print(\"Got probabilities for ResNet50V2\")\n",
        "\n",
        "if 'efficientnet_model' in globals() and efficientnet_model is not None:\n",
        "    probs_efficientnet = get_model_probabilities(efficientnet_model, X_test_flat, X_test_cnn, X_test_vgg, \"EfficientNetB0\", IMAGE_SIZE)\n",
        "    if probs_efficientnet is not None and probs_efficientnet.shape[0] > 0:\n",
        "        available_probs[\"EfficientNetB0\"] = probs_efficientnet[:, 1] # Get probability of the positive class\n",
        "        print(\"Got probabilities for EfficientNetB0\")\n",
        "\n",
        "# Plot ROC curves for available models\n",
        "for model_name, y_pred_proba in available_probs.items():\n",
        "    fpr, tpr, thresholds = roc_curve(y_test, y_pred_proba)\n",
        "    roc_auc = auc(fpr, tpr)\n",
        "    plt.plot(fpr, tpr, label=f'{model_name} (AUC = {roc_auc:.4f})')\n",
        "\n",
        "plt.plot([0, 1], [0, 1], 'k--', label='Random Guessing') # Diagonal random guess line\n",
        "plt.xlabel('False Positive Rate (FPR)')\n",
        "plt.ylabel('True Positive Rate (TPR)')\n",
        "plt.title('ROC Curves for Brain Tumor Detection Models')\n",
        "plt.legend(loc='lower right')\n",
        "plt.grid(True)\n",
        "plt.show()"
      ],
      "id": "d1e8dc77",
      "execution_count": null,
      "outputs": []
    }
  ],
  "metadata": {
    "accelerator": "GPU",
    "colab": {
      "gpuType": "T4",
      "provenance": []
    },
    "kernelspec": {
      "display_name": "Python 3",
      "name": "python3"
    },
    "language_info": {
      "codemirror_mode": {
        "name": "ipython",
        "version": 3
      },
      "file_extension": ".py",
      "mimetype": "text/x-python",
      "name": "python",
      "nbconvert_exporter": "python",
      "pygments_lexer": "ipython3",
      "version": "3.11.12"
    }
  },
  "nbformat": 4,
  "nbformat_minor": 5
}